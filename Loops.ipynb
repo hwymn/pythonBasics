{
  "nbformat": 4,
  "nbformat_minor": 0,
  "metadata": {
    "colab": {
      "name": "Loops.ipynb",
      "provenance": [],
      "collapsed_sections": [],
      "authorship_tag": "ABX9TyMyJDjm4R6XLBmS5w2iwu4T",
      "include_colab_link": true
    },
    "kernelspec": {
      "name": "python3",
      "display_name": "Python 3"
    },
    "language_info": {
      "name": "python"
    }
  },
  "cells": [
    {
      "cell_type": "markdown",
      "metadata": {
        "id": "view-in-github",
        "colab_type": "text"
      },
      "source": [
        "<a href=\"https://colab.research.google.com/github/hwymn/pythonBasics/blob/main/Loops.ipynb\" target=\"_parent\"><img src=\"https://colab.research.google.com/assets/colab-badge.svg\" alt=\"Open In Colab\"/></a>"
      ]
    },
    {
      "cell_type": "markdown",
      "metadata": {
        "id": "qSDNv8ka-0OS"
      },
      "source": [
        "#Loops"
      ]
    },
    {
      "cell_type": "markdown",
      "metadata": {
        "id": "XVcaer-n-4Sq"
      },
      "source": [
        "## For Loop"
      ]
    },
    {
      "cell_type": "code",
      "metadata": {
        "id": "4N4VbHJo-7bq"
      },
      "source": [
        "my_List = [1, 2, 3, 4, 5, 6, 7, 8, 9, 10, 11, 12, 13, 14, 15, 16, 17, 18, 19, 20]"
      ],
      "execution_count": 12,
      "outputs": []
    },
    {
      "cell_type": "code",
      "metadata": {
        "colab": {
          "base_uri": "https://localhost:8080/"
        },
        "id": "9coqjz_S_S8S",
        "outputId": "f0a26ecd-19df-41d8-8133-b7f1e88b2ab7"
      },
      "source": [
        "for i in my_List:\n",
        "  print(i)\n",
        "# this just prints the list"
      ],
      "execution_count": 33,
      "outputs": [
        {
          "output_type": "stream",
          "name": "stdout",
          "text": [
            "1\n",
            "2\n",
            "3\n",
            "4\n",
            "5\n",
            "6\n",
            "7\n",
            "8\n",
            "9\n",
            "10\n",
            "11\n",
            "12\n",
            "13\n",
            "14\n",
            "15\n",
            "16\n",
            "17\n",
            "18\n",
            "19\n",
            "20\n"
          ]
        }
      ]
    },
    {
      "cell_type": "code",
      "metadata": {
        "colab": {
          "base_uri": "https://localhost:8080/"
        },
        "id": "Gvvmlr3-_hw9",
        "outputId": "80778c83-78b7-4e2f-bb07-c288c34dd8e8"
      },
      "source": [
        "for i in range(11, 1, -1):\n",
        "  print(i)\n",
        "# this checks the items within the range (Would this just be all items?)"
      ],
      "execution_count": 6,
      "outputs": [
        {
          "output_type": "stream",
          "name": "stdout",
          "text": [
            "11\n",
            "10\n",
            "9\n",
            "8\n",
            "7\n",
            "6\n",
            "5\n",
            "4\n",
            "3\n",
            "2\n"
          ]
        }
      ]
    },
    {
      "cell_type": "code",
      "metadata": {
        "colab": {
          "base_uri": "https://localhost:8080/"
        },
        "id": "3CCQwFtNAS9G",
        "outputId": "739b4a47-24c4-4059-c4ad-0db49b9fe8aa"
      },
      "source": [
        "5 % 3\n",
        "# \"%\" checks the remainder"
      ],
      "execution_count": 7,
      "outputs": [
        {
          "output_type": "execute_result",
          "data": {
            "text/plain": [
              "2"
            ]
          },
          "metadata": {},
          "execution_count": 7
        }
      ]
    },
    {
      "cell_type": "code",
      "metadata": {
        "colab": {
          "base_uri": "https://localhost:8080/"
        },
        "id": "-nDI3hjHA8sK",
        "outputId": "551deae7-1211-4444-b653-8479da85df04"
      },
      "source": [
        "10 % 3\n",
        "# \"%\" checks the remainder"
      ],
      "execution_count": 8,
      "outputs": [
        {
          "output_type": "execute_result",
          "data": {
            "text/plain": [
              "1"
            ]
          },
          "metadata": {},
          "execution_count": 8
        }
      ]
    },
    {
      "cell_type": "code",
      "metadata": {
        "colab": {
          "base_uri": "https://localhost:8080/"
        },
        "id": "TqWYSacuBFtH",
        "outputId": "f911891c-6b0b-4212-b087-eb667d78309a"
      },
      "source": [
        "for i in my_List:\n",
        "  if i % 2 == 0:\n",
        "    print(i)\n",
        "# This checks for even numbers"
      ],
      "execution_count": 13,
      "outputs": [
        {
          "output_type": "stream",
          "name": "stdout",
          "text": [
            "2\n",
            "4\n",
            "6\n",
            "8\n",
            "10\n",
            "12\n",
            "14\n",
            "16\n",
            "18\n",
            "20\n"
          ]
        }
      ]
    },
    {
      "cell_type": "code",
      "metadata": {
        "colab": {
          "base_uri": "https://localhost:8080/"
        },
        "id": "Wrs_gcJHBWKa",
        "outputId": "c3edb355-6c48-4e4d-c34c-c020c8977551"
      },
      "source": [
        "for i in my_List:\n",
        "  if i % 2 != 0:\n",
        "    print(i)\n",
        "# This checks for odd numbers"
      ],
      "execution_count": 14,
      "outputs": [
        {
          "output_type": "stream",
          "name": "stdout",
          "text": [
            "1\n",
            "3\n",
            "5\n",
            "7\n",
            "9\n",
            "11\n",
            "13\n",
            "15\n",
            "17\n",
            "19\n"
          ]
        }
      ]
    },
    {
      "cell_type": "markdown",
      "metadata": {
        "id": "8Vz7Trl7CEKw"
      },
      "source": [
        "1. print out the items in the list plus 3\n",
        "2. print out he items from the list times 17\n",
        "3. print out the items of the list to the power of 5"
      ]
    },
    {
      "cell_type": "code",
      "metadata": {
        "id": "acYRDZx7DNL6"
      },
      "source": [
        "myList = [1, 5, 7]\n",
        "# the list was set here"
      ],
      "execution_count": 17,
      "outputs": []
    },
    {
      "cell_type": "code",
      "metadata": {
        "colab": {
          "base_uri": "https://localhost:8080/"
        },
        "id": "fJFDQk39Dd81",
        "outputId": "b3639aac-dcd8-4469-818a-7a26884070bb"
      },
      "source": [
        "for i in myList: \n",
        "  print(i + 3)\n",
        "# \"+\" adds"
      ],
      "execution_count": 22,
      "outputs": [
        {
          "output_type": "stream",
          "name": "stdout",
          "text": [
            "4\n",
            "8\n",
            "10\n"
          ]
        }
      ]
    },
    {
      "cell_type": "code",
      "metadata": {
        "colab": {
          "base_uri": "https://localhost:8080/"
        },
        "id": "s0CcV1RrD9MR",
        "outputId": "ba9ddb25-eb59-4292-df13-43dc730d83f4"
      },
      "source": [
        "for i in myList:\n",
        "  print(i * 17)\n",
        "# \"*\" multiplies"
      ],
      "execution_count": 24,
      "outputs": [
        {
          "output_type": "stream",
          "name": "stdout",
          "text": [
            "17\n",
            "85\n",
            "119\n"
          ]
        }
      ]
    },
    {
      "cell_type": "code",
      "metadata": {
        "colab": {
          "base_uri": "https://localhost:8080/"
        },
        "id": "feowsC2xEFUl",
        "outputId": "06ad741c-705f-49aa-fe12-e3fffec1242e"
      },
      "source": [
        "for i in myList:\n",
        "  #print(pow(i, 5))\n",
        "  print(i**5)\n",
        "# \"**\" takes it to the power"
      ],
      "execution_count": 32,
      "outputs": [
        {
          "output_type": "stream",
          "name": "stdout",
          "text": [
            "1\n",
            "3125\n",
            "16807\n"
          ]
        }
      ]
    },
    {
      "cell_type": "code",
      "metadata": {
        "colab": {
          "base_uri": "https://localhost:8080/"
        },
        "id": "d3nqi50eElWY",
        "outputId": "9741c437-a686-43ec-c2b4-a4cd62377d62"
      },
      "source": [
        "myList"
      ],
      "execution_count": 34,
      "outputs": [
        {
          "output_type": "execute_result",
          "data": {
            "text/plain": [
              "[1, 5, 7]"
            ]
          },
          "metadata": {},
          "execution_count": 34
        }
      ]
    },
    {
      "cell_type": "code",
      "metadata": {
        "colab": {
          "base_uri": "https://localhost:8080/"
        },
        "id": "Usue1lR2HlSh",
        "outputId": "6a59edde-bbe0-4267-c854-3ccdfd1c0342"
      },
      "source": [
        "for i in range(0, len(myList)):\n",
        "# Creates a range that is equal to the entire length of the list. Useful incase you dont know the length of the list.\n",
        "  print('Iteration #:', i+1)\n",
        "# Essentially labels the first iteration, for the first item in the list\n",
        "  for j in range(i+1, len(myList)):\n",
        "# Adds 1 to the item place number in the list\n",
        "    print('The outside loop value is: ', \n",
        "# Prints the string\n",
        "          myList[i], 'The inner loop value is ', myList[j])\n",
        "# Prints i + the string + the defined item in the list. This line and the above functional line are all one line technically"
      ],
      "execution_count": 38,
      "outputs": [
        {
          "output_type": "stream",
          "name": "stdout",
          "text": [
            "Iteration #: 1\n",
            "The outside loop value is:  1 The inner loop value is  5\n",
            "The outside loop value is:  1 The inner loop value is  7\n",
            "Iteration #: 2\n",
            "The outside loop value is:  5 The inner loop value is  7\n",
            "Iteration #: 3\n"
          ]
        }
      ]
    },
    {
      "cell_type": "code",
      "metadata": {
        "id": "DDuF9lrxIgw9"
      },
      "source": [
        ""
      ],
      "execution_count": null,
      "outputs": []
    }
  ]
}