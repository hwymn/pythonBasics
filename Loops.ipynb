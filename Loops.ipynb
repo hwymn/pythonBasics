{
  "nbformat": 4,
  "nbformat_minor": 0,
  "metadata": {
    "colab": {
      "name": "Loops.ipynb",
      "provenance": [],
      "collapsed_sections": [
        "XVcaer-n-4Sq"
      ],
      "authorship_tag": "ABX9TyM8KHDuKJe1aX+AhjSa0yHu",
      "include_colab_link": true
    },
    "kernelspec": {
      "name": "python3",
      "display_name": "Python 3"
    },
    "language_info": {
      "name": "python"
    }
  },
  "cells": [
    {
      "cell_type": "markdown",
      "metadata": {
        "id": "view-in-github",
        "colab_type": "text"
      },
      "source": [
        "<a href=\"https://colab.research.google.com/github/hwymn/pythonBasics/blob/main/Loops.ipynb\" target=\"_parent\"><img src=\"https://colab.research.google.com/assets/colab-badge.svg\" alt=\"Open In Colab\"/></a>"
      ]
    },
    {
      "cell_type": "markdown",
      "metadata": {
        "id": "qSDNv8ka-0OS"
      },
      "source": [
        "#Loops"
      ]
    },
    {
      "cell_type": "markdown",
      "metadata": {
        "id": "XVcaer-n-4Sq"
      },
      "source": [
        "## For Loop"
      ]
    },
    {
      "cell_type": "code",
      "metadata": {
        "id": "4N4VbHJo-7bq"
      },
      "source": [
        "my_List = [1, 2, 3, 4, 5, 6, 7, 8, 9, 10, 11, 12, 13, 14, 15, 16, 17, 18, 19, 20]"
      ],
      "execution_count": 12,
      "outputs": []
    },
    {
      "cell_type": "code",
      "metadata": {
        "colab": {
          "base_uri": "https://localhost:8080/"
        },
        "id": "9coqjz_S_S8S",
        "outputId": "f0a26ecd-19df-41d8-8133-b7f1e88b2ab7"
      },
      "source": [
        "for i in my_List:\n",
        "  print(i)\n",
        "# this just prints the list"
      ],
      "execution_count": 33,
      "outputs": [
        {
          "output_type": "stream",
          "name": "stdout",
          "text": [
            "1\n",
            "2\n",
            "3\n",
            "4\n",
            "5\n",
            "6\n",
            "7\n",
            "8\n",
            "9\n",
            "10\n",
            "11\n",
            "12\n",
            "13\n",
            "14\n",
            "15\n",
            "16\n",
            "17\n",
            "18\n",
            "19\n",
            "20\n"
          ]
        }
      ]
    },
    {
      "cell_type": "code",
      "metadata": {
        "colab": {
          "base_uri": "https://localhost:8080/"
        },
        "id": "Gvvmlr3-_hw9",
        "outputId": "80778c83-78b7-4e2f-bb07-c288c34dd8e8"
      },
      "source": [
        "for i in range(11, 1, -1):\n",
        "  print(i)\n",
        "# this checks the items within the range (Would this just be all items?)"
      ],
      "execution_count": 6,
      "outputs": [
        {
          "output_type": "stream",
          "name": "stdout",
          "text": [
            "11\n",
            "10\n",
            "9\n",
            "8\n",
            "7\n",
            "6\n",
            "5\n",
            "4\n",
            "3\n",
            "2\n"
          ]
        }
      ]
    },
    {
      "cell_type": "code",
      "metadata": {
        "colab": {
          "base_uri": "https://localhost:8080/"
        },
        "id": "3CCQwFtNAS9G",
        "outputId": "739b4a47-24c4-4059-c4ad-0db49b9fe8aa"
      },
      "source": [
        "5 % 3\n",
        "# \"%\" checks the remainder"
      ],
      "execution_count": 7,
      "outputs": [
        {
          "output_type": "execute_result",
          "data": {
            "text/plain": [
              "2"
            ]
          },
          "metadata": {},
          "execution_count": 7
        }
      ]
    },
    {
      "cell_type": "code",
      "metadata": {
        "colab": {
          "base_uri": "https://localhost:8080/"
        },
        "id": "-nDI3hjHA8sK",
        "outputId": "551deae7-1211-4444-b653-8479da85df04"
      },
      "source": [
        "10 % 3\n",
        "# \"%\" checks the remainder"
      ],
      "execution_count": 8,
      "outputs": [
        {
          "output_type": "execute_result",
          "data": {
            "text/plain": [
              "1"
            ]
          },
          "metadata": {},
          "execution_count": 8
        }
      ]
    },
    {
      "cell_type": "code",
      "metadata": {
        "colab": {
          "base_uri": "https://localhost:8080/"
        },
        "id": "TqWYSacuBFtH",
        "outputId": "f911891c-6b0b-4212-b087-eb667d78309a"
      },
      "source": [
        "for i in my_List:\n",
        "  if i % 2 == 0:\n",
        "    print(i)\n",
        "# This checks for even numbers"
      ],
      "execution_count": 13,
      "outputs": [
        {
          "output_type": "stream",
          "name": "stdout",
          "text": [
            "2\n",
            "4\n",
            "6\n",
            "8\n",
            "10\n",
            "12\n",
            "14\n",
            "16\n",
            "18\n",
            "20\n"
          ]
        }
      ]
    },
    {
      "cell_type": "code",
      "metadata": {
        "colab": {
          "base_uri": "https://localhost:8080/"
        },
        "id": "Wrs_gcJHBWKa",
        "outputId": "c3edb355-6c48-4e4d-c34c-c020c8977551"
      },
      "source": [
        "for i in my_List:\n",
        "  if i % 2 != 0:\n",
        "    print(i)\n",
        "# This checks for odd numbers"
      ],
      "execution_count": 14,
      "outputs": [
        {
          "output_type": "stream",
          "name": "stdout",
          "text": [
            "1\n",
            "3\n",
            "5\n",
            "7\n",
            "9\n",
            "11\n",
            "13\n",
            "15\n",
            "17\n",
            "19\n"
          ]
        }
      ]
    },
    {
      "cell_type": "markdown",
      "metadata": {
        "id": "8Vz7Trl7CEKw"
      },
      "source": [
        "1. print out the items in the list plus 3\n",
        "2. print out he items from the list times 17\n",
        "3. print out the items of the list to the power of 5"
      ]
    },
    {
      "cell_type": "code",
      "metadata": {
        "id": "acYRDZx7DNL6"
      },
      "source": [
        "myList = [1, 5, 7]\n",
        "# the list was set here"
      ],
      "execution_count": 17,
      "outputs": []
    },
    {
      "cell_type": "code",
      "metadata": {
        "colab": {
          "base_uri": "https://localhost:8080/"
        },
        "id": "fJFDQk39Dd81",
        "outputId": "b3639aac-dcd8-4469-818a-7a26884070bb"
      },
      "source": [
        "for i in myList: \n",
        "  print(i + 3)\n",
        "# \"+\" adds"
      ],
      "execution_count": 22,
      "outputs": [
        {
          "output_type": "stream",
          "name": "stdout",
          "text": [
            "4\n",
            "8\n",
            "10\n"
          ]
        }
      ]
    },
    {
      "cell_type": "code",
      "metadata": {
        "colab": {
          "base_uri": "https://localhost:8080/"
        },
        "id": "s0CcV1RrD9MR",
        "outputId": "ba9ddb25-eb59-4292-df13-43dc730d83f4"
      },
      "source": [
        "for i in myList:\n",
        "  print(i * 17)\n",
        "# \"*\" multiplies"
      ],
      "execution_count": 24,
      "outputs": [
        {
          "output_type": "stream",
          "name": "stdout",
          "text": [
            "17\n",
            "85\n",
            "119\n"
          ]
        }
      ]
    },
    {
      "cell_type": "code",
      "metadata": {
        "colab": {
          "base_uri": "https://localhost:8080/"
        },
        "id": "feowsC2xEFUl",
        "outputId": "06ad741c-705f-49aa-fe12-e3fffec1242e"
      },
      "source": [
        "for i in myList:\n",
        "  #print(pow(i, 5))\n",
        "  print(i**5)\n",
        "# \"**\" takes it to the power"
      ],
      "execution_count": 32,
      "outputs": [
        {
          "output_type": "stream",
          "name": "stdout",
          "text": [
            "1\n",
            "3125\n",
            "16807\n"
          ]
        }
      ]
    },
    {
      "cell_type": "code",
      "metadata": {
        "colab": {
          "base_uri": "https://localhost:8080/"
        },
        "id": "d3nqi50eElWY",
        "outputId": "9741c437-a686-43ec-c2b4-a4cd62377d62"
      },
      "source": [
        "myList"
      ],
      "execution_count": 34,
      "outputs": [
        {
          "output_type": "execute_result",
          "data": {
            "text/plain": [
              "[1, 5, 7]"
            ]
          },
          "metadata": {},
          "execution_count": 34
        }
      ]
    },
    {
      "cell_type": "code",
      "metadata": {
        "colab": {
          "base_uri": "https://localhost:8080/"
        },
        "id": "Usue1lR2HlSh",
        "outputId": "6a59edde-bbe0-4267-c854-3ccdfd1c0342"
      },
      "source": [
        "for i in range(0, len(myList)):\n",
        "# Creates a range that is equal to the entire length of the list. Useful incase you dont know the length of the list.\n",
        "  print('Iteration #:', i+1)\n",
        "# Essentially labels the first iteration, for the first item in the list, by printing the string + i\n",
        "  for j in range(i+1, len(myList)):\n",
        "# Adds 1 to the item place number in the list\n",
        "    print('The outside loop value is: ', \n",
        "# Prints the string\n",
        "          myList[i], 'The inner loop value is ', myList[j])\n",
        "# Prints i + the string + the defined item in the list. This line and the above functional line are all one line technically"
      ],
      "execution_count": 38,
      "outputs": [
        {
          "output_type": "stream",
          "name": "stdout",
          "text": [
            "Iteration #: 1\n",
            "The outside loop value is:  1 The inner loop value is  5\n",
            "The outside loop value is:  1 The inner loop value is  7\n",
            "Iteration #: 2\n",
            "The outside loop value is:  5 The inner loop value is  7\n",
            "Iteration #: 3\n"
          ]
        }
      ]
    },
    {
      "cell_type": "code",
      "metadata": {
        "colab": {
          "base_uri": "https://localhost:8080/"
        },
        "id": "DDuF9lrxIgw9",
        "outputId": "bde13f38-f7c4-4c75-b45e-dd9d4e1f9416"
      },
      "source": [
        "for i in \"string\":\n",
        "  print(i)\n",
        "# Prints every item in the string on its own line"
      ],
      "execution_count": 39,
      "outputs": [
        {
          "output_type": "stream",
          "name": "stdout",
          "text": [
            "s\n",
            "t\n",
            "r\n",
            "i\n",
            "n\n",
            "g\n"
          ]
        }
      ]
    },
    {
      "cell_type": "code",
      "metadata": {
        "colab": {
          "base_uri": "https://localhost:8080/"
        },
        "id": "HzYI_MtjZqB6",
        "outputId": "ae5ad4c3-f0a9-4c91-8fb9-27526b76199c"
      },
      "source": [
        "my_list = [(1,2), (3,4), (5,6), (7,8)]\n",
        "len(my_list)\n",
        "# These are tuples (tupperware). Tuples are used to store multiple items in a single variable\n",
        "# len finds the length of the list"
      ],
      "execution_count": 41,
      "outputs": [
        {
          "output_type": "execute_result",
          "data": {
            "text/plain": [
              "4"
            ]
          },
          "metadata": {},
          "execution_count": 41
        }
      ]
    },
    {
      "cell_type": "code",
      "metadata": {
        "colab": {
          "base_uri": "https://localhost:8080/"
        },
        "id": "XdHbo7HNakxv",
        "outputId": "46213c6c-9ea8-45db-fd4f-ab991f4eba90"
      },
      "source": [
        "for tup in my_list:\n",
        "  print(tup)\n",
        "# Prints the tuples in the list."
      ],
      "execution_count": 43,
      "outputs": [
        {
          "output_type": "stream",
          "name": "stdout",
          "text": [
            "(1, 2)\n",
            "(3, 4)\n",
            "(5, 6)\n",
            "(7, 8)\n"
          ]
        }
      ]
    },
    {
      "cell_type": "code",
      "metadata": {
        "colab": {
          "base_uri": "https://localhost:8080/"
        },
        "id": "7s0vTgESa35x",
        "outputId": "f63380e0-3c17-410f-80a3-0f7e56575836"
      },
      "source": [
        "for a,b in my_list:\n",
        "# a,b here says that it is referring to the items in the tuple. Neccessary\n",
        "  print(a,b)\n",
        "# Unpacks the touples. Takes the items from the tuples and unpacks them. You can unpack certain tuples as well e.g. just \"a\".\n",
        "# Also, it doesnt have to be \"a\" \"b\" etc. It can be words or something, like \"for i in...\""
      ],
      "execution_count": 45,
      "outputs": [
        {
          "output_type": "stream",
          "name": "stdout",
          "text": [
            "1 2\n",
            "3 4\n",
            "5 6\n",
            "7 8\n"
          ]
        }
      ]
    },
    {
      "cell_type": "code",
      "metadata": {
        "colab": {
          "base_uri": "https://localhost:8080/"
        },
        "id": "xvtwNgMXbzWP",
        "outputId": "93aeae1a-6aac-465b-aae4-232348753e04"
      },
      "source": [
        "for a,b in my_list:\n",
        "  print(a)\n",
        "# Demonstration of unpacking and pulling a single item from a tuple"
      ],
      "execution_count": 46,
      "outputs": [
        {
          "output_type": "stream",
          "name": "stdout",
          "text": [
            "1\n",
            "3\n",
            "5\n",
            "7\n"
          ]
        }
      ]
    },
    {
      "cell_type": "code",
      "metadata": {
        "colab": {
          "base_uri": "https://localhost:8080/"
        },
        "id": "yJF9f7BkelhA",
        "outputId": "a1e85ed0-3403-48ce-bc3f-c2628c277b27"
      },
      "source": [
        "for a,b in my_list:\n",
        "  print(b)\n",
        "# Demonstration of unpacking and pulling a single item from a tuple"
      ],
      "execution_count": 47,
      "outputs": [
        {
          "output_type": "stream",
          "name": "stdout",
          "text": [
            "2\n",
            "4\n",
            "6\n",
            "8\n"
          ]
        }
      ]
    },
    {
      "cell_type": "code",
      "metadata": {
        "colab": {
          "base_uri": "https://localhost:8080/"
        },
        "id": "T4snnCAMenNq",
        "outputId": "a74b435a-55bc-438c-a1fc-709e17e2308b"
      },
      "source": [
        "my_dict = {\"k1\":1, \"k2\":2, \"k3\":3}\n",
        "# Defines the dictionary items\n",
        "for i in my_dict:\n",
        "  print(i)\n",
        "# Prints the keys in the dictionary"
      ],
      "execution_count": 49,
      "outputs": [
        {
          "output_type": "stream",
          "name": "stdout",
          "text": [
            "k1\n",
            "k2\n",
            "k3\n"
          ]
        }
      ]
    },
    {
      "cell_type": "code",
      "metadata": {
        "colab": {
          "base_uri": "https://localhost:8080/"
        },
        "id": "faZG4Mgig-gu",
        "outputId": "4c3e9261-e3e3-48d1-b1d0-a7d014a4002a"
      },
      "source": [
        "for i in my_dict.items():\n",
        "# Gives command to get the items from the dictionary (both key and values)\n",
        "  print(i)\n",
        "# Prints the items gathered"
      ],
      "execution_count": 52,
      "outputs": [
        {
          "output_type": "stream",
          "name": "stdout",
          "text": [
            "('k1', 1)\n",
            "('k2', 2)\n",
            "('k3', 3)\n"
          ]
        }
      ]
    },
    {
      "cell_type": "markdown",
      "metadata": {
        "id": "-tbOFHUqhkyv"
      },
      "source": [
        "How do we unpack the values from the dictionary"
      ]
    },
    {
      "cell_type": "code",
      "metadata": {
        "colab": {
          "base_uri": "https://localhost:8080/"
        },
        "id": "QhFmF21qh9cb",
        "outputId": "4a1722c6-1a32-4e12-82c9-0e2bc8e1cd1b"
      },
      "source": [
        "for a,b in my_dict.items():\n",
        "# Identifies the keys and values as items,like in tuples\n",
        "  print(b)\n",
        "# Prints the chosen item"
      ],
      "execution_count": 55,
      "outputs": [
        {
          "output_type": "stream",
          "name": "stdout",
          "text": [
            "1\n",
            "2\n",
            "3\n"
          ]
        }
      ]
    },
    {
      "cell_type": "markdown",
      "metadata": {
        "id": "_V4yjxNcjk4T"
      },
      "source": [
        "## While Loops"
      ]
    },
    {
      "cell_type": "code",
      "metadata": {
        "colab": {
          "base_uri": "https://localhost:8080/"
        },
        "id": "EoZlP_xYjqcB",
        "outputId": "10245719-063a-493f-b84a-2375528e339c"
      },
      "source": [
        "i = 0\n",
        "# Gives a value to i\n",
        "while i < 5:\n",
        "# Says that while the value of i is less than 5, the following will happen\n",
        "  print(i)\n",
        "  i = i + 1\n",
        "# Adds 1 to i and loops back around\n",
        "  # or \"i += 1\""
      ],
      "execution_count": 57,
      "outputs": [
        {
          "output_type": "stream",
          "name": "stdout",
          "text": [
            "0\n",
            "1\n",
            "2\n",
            "3\n",
            "4\n"
          ]
        }
      ]
    },
    {
      "cell_type": "code",
      "metadata": {
        "colab": {
          "base_uri": "https://localhost:8080/"
        },
        "id": "L3hz65VxkECR",
        "outputId": "cc9f7a42-e724-4cac-bd74-94b0921c2443"
      },
      "source": [
        "i = 0\n",
        "\n",
        "while i < 5:\n",
        "  print(i)\n",
        "  i = i + 1\n",
        "else:\n",
        "  print(\"i is not less than 5\")\n",
        "# The two lines above say that when i is >= 5, the string will be printed"
      ],
      "execution_count": 58,
      "outputs": [
        {
          "output_type": "stream",
          "name": "stdout",
          "text": [
            "0\n",
            "1\n",
            "2\n",
            "3\n",
            "4\n",
            "i is not less than 5\n"
          ]
        }
      ]
    },
    {
      "cell_type": "code",
      "metadata": {
        "colab": {
          "base_uri": "https://localhost:8080/"
        },
        "id": "eOghs8MEl-8N",
        "outputId": "037ccd22-3fb7-48ec-f4e4-90838d6bd59c"
      },
      "source": [
        "i = 10\n",
        "\n",
        "while i < 5:\n",
        "  print(i)\n",
        "  i = i + 1\n",
        "else:\n",
        "  print(\"i is not less than 5\")"
      ],
      "execution_count": 59,
      "outputs": [
        {
          "output_type": "stream",
          "name": "stdout",
          "text": [
            "i is not less than 5\n"
          ]
        }
      ]
    },
    {
      "cell_type": "code",
      "metadata": {
        "id": "fQwm5p1umoP4"
      },
      "source": [
        ""
      ],
      "execution_count": null,
      "outputs": []
    }
  ]
}