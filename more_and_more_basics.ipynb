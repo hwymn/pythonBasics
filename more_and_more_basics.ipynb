{
  "nbformat": 4,
  "nbformat_minor": 0,
  "metadata": {
    "colab": {
      "name": "more and more basics.ipynb",
      "provenance": [],
      "collapsed_sections": [
        "89TQCm94jJZg",
        "vNSHEK27kJ3-",
        "U562PDB6lbva"
      ],
      "toc_visible": true,
      "authorship_tag": "ABX9TyOR7J+XGkW/tKCq3IlYowI4",
      "include_colab_link": true
    },
    "kernelspec": {
      "name": "python3",
      "display_name": "Python 3"
    },
    "language_info": {
      "name": "python"
    }
  },
  "cells": [
    {
      "cell_type": "markdown",
      "metadata": {
        "id": "view-in-github",
        "colab_type": "text"
      },
      "source": [
        "<a href=\"https://colab.research.google.com/github/hwymn/pythonBasics/blob/main/more_and_more_basics.ipynb\" target=\"_parent\"><img src=\"https://colab.research.google.com/assets/colab-badge.svg\" alt=\"Open In Colab\"/></a>"
      ]
    },
    {
      "cell_type": "markdown",
      "metadata": {
        "id": "ejYTHclyi9TR"
      },
      "source": [
        "#More Basics"
      ]
    },
    {
      "cell_type": "markdown",
      "metadata": {
        "id": "89TQCm94jJZg"
      },
      "source": [
        "##Booleans"
      ]
    },
    {
      "cell_type": "code",
      "metadata": {
        "colab": {
          "base_uri": "https://localhost:8080/"
        },
        "id": "mjkBwk8qjNAZ",
        "outputId": "db0079bc-a199-42da-ebbe-b6db31429142"
      },
      "source": [
        "True\n",
        "#boolean operator"
      ],
      "execution_count": 1,
      "outputs": [
        {
          "output_type": "execute_result",
          "data": {
            "text/plain": [
              "True"
            ]
          },
          "metadata": {},
          "execution_count": 1
        }
      ]
    },
    {
      "cell_type": "code",
      "metadata": {
        "colab": {
          "base_uri": "https://localhost:8080/"
        },
        "id": "bYBe04ROjRPd",
        "outputId": "83109810-150b-4e67-b087-fea170e9d0af"
      },
      "source": [
        "type(True)\n",
        "#shows that True is a boolean"
      ],
      "execution_count": 2,
      "outputs": [
        {
          "output_type": "execute_result",
          "data": {
            "text/plain": [
              "bool"
            ]
          },
          "metadata": {},
          "execution_count": 2
        }
      ]
    },
    {
      "cell_type": "code",
      "metadata": {
        "colab": {
          "base_uri": "https://localhost:8080/"
        },
        "id": "_CkoJmQijT6t",
        "outputId": "77f28801-84ad-4afd-f5c6-bfbf0868908a"
      },
      "source": [
        "False\n",
        "#boolean operator"
      ],
      "execution_count": 3,
      "outputs": [
        {
          "output_type": "execute_result",
          "data": {
            "text/plain": [
              "False"
            ]
          },
          "metadata": {},
          "execution_count": 3
        }
      ]
    },
    {
      "cell_type": "code",
      "metadata": {
        "colab": {
          "base_uri": "https://localhost:8080/"
        },
        "id": "iA33vrUIjVpY",
        "outputId": "c1750c0c-4ab8-4f35-d669-cbbb2b08d112"
      },
      "source": [
        "type(False)\n",
        "#shows that False is a boolean"
      ],
      "execution_count": 4,
      "outputs": [
        {
          "output_type": "execute_result",
          "data": {
            "text/plain": [
              "bool"
            ]
          },
          "metadata": {},
          "execution_count": 4
        }
      ]
    },
    {
      "cell_type": "code",
      "metadata": {
        "colab": {
          "base_uri": "https://localhost:8080/"
        },
        "id": "4zH4gUDejXOC",
        "outputId": "cfc34e5e-d0e3-47ae-d425-f7c485519d35"
      },
      "source": [
        "10>9\n",
        "#using a comparison operator, a boolean is returned"
      ],
      "execution_count": 5,
      "outputs": [
        {
          "output_type": "execute_result",
          "data": {
            "text/plain": [
              "True"
            ]
          },
          "metadata": {},
          "execution_count": 5
        }
      ]
    },
    {
      "cell_type": "code",
      "metadata": {
        "colab": {
          "base_uri": "https://localhost:8080/"
        },
        "id": "l8M8ZXcCjvji",
        "outputId": "40221700-0006-48d6-bbfd-3e7a5cb604b1"
      },
      "source": [
        "10<9\n",
        "#using a comparison operator, a boolean is returned"
      ],
      "execution_count": 6,
      "outputs": [
        {
          "output_type": "execute_result",
          "data": {
            "text/plain": [
              "False"
            ]
          },
          "metadata": {},
          "execution_count": 6
        }
      ]
    },
    {
      "cell_type": "markdown",
      "metadata": {
        "id": "WFZPcb3GjxdJ"
      },
      "source": [
        "##Operators"
      ]
    },
    {
      "cell_type": "markdown",
      "metadata": {
        "id": "vNSHEK27kJ3-"
      },
      "source": [
        "###Comparison Operators"
      ]
    },
    {
      "cell_type": "code",
      "metadata": {
        "colab": {
          "base_uri": "https://localhost:8080/"
        },
        "id": "oUvmAvy5ka_W",
        "outputId": "1e36dc4f-d5ce-4e6a-bd35-0da291874d23"
      },
      "source": [
        "12 == 4\n",
        "#using a comparison operator, a boolean is returned"
      ],
      "execution_count": 9,
      "outputs": [
        {
          "output_type": "execute_result",
          "data": {
            "text/plain": [
              "False"
            ]
          },
          "metadata": {},
          "execution_count": 9
        }
      ]
    },
    {
      "cell_type": "code",
      "metadata": {
        "colab": {
          "base_uri": "https://localhost:8080/"
        },
        "id": "x19QIn7Bkgzx",
        "outputId": "afbea96e-ec7b-4c9d-9941-4f353db01676"
      },
      "source": [
        "'Hi there' == 'Hi there'\n",
        "#when comparing strings, the computer uses alphabetization to see if the strings are equal to, less than, or greater than\n",
        "#alphabetization allows strings to be used like numbers, since computers use numbers instead of text"
      ],
      "execution_count": 35,
      "outputs": [
        {
          "output_type": "execute_result",
          "data": {
            "text/plain": [
              "True"
            ]
          },
          "metadata": {},
          "execution_count": 35
        }
      ]
    },
    {
      "cell_type": "code",
      "metadata": {
        "colab": {
          "base_uri": "https://localhost:8080/"
        },
        "id": "XA4lQ4vTklud",
        "outputId": "abfc5465-f4db-46ea-836a-d0e46d0cc486"
      },
      "source": [
        "2 == len('hi')\n",
        "#len checks length of a string"
      ],
      "execution_count": 11,
      "outputs": [
        {
          "output_type": "execute_result",
          "data": {
            "text/plain": [
              "True"
            ]
          },
          "metadata": {},
          "execution_count": 11
        }
      ]
    },
    {
      "cell_type": "code",
      "metadata": {
        "colab": {
          "base_uri": "https://localhost:8080/"
        },
        "id": "wGK6HhONk6xg",
        "outputId": "a0d97bdf-7dcc-4547-be1f-1cf7d556cfd5"
      },
      "source": [
        "5 != 7\n",
        "# \"!=\" checks if something is NOT true"
      ],
      "execution_count": 13,
      "outputs": [
        {
          "output_type": "execute_result",
          "data": {
            "text/plain": [
              "True"
            ]
          },
          "metadata": {},
          "execution_count": 13
        }
      ]
    },
    {
      "cell_type": "code",
      "metadata": {
        "colab": {
          "base_uri": "https://localhost:8080/"
        },
        "id": "xbfMMQCylDkx",
        "outputId": "8a1d04fe-be5f-4a58-eed0-f7a250e1f928"
      },
      "source": [
        "5 != 5\n",
        "# \"!=\" checks if something is NOT true"
      ],
      "execution_count": 14,
      "outputs": [
        {
          "output_type": "execute_result",
          "data": {
            "text/plain": [
              "False"
            ]
          },
          "metadata": {},
          "execution_count": 14
        }
      ]
    },
    {
      "cell_type": "code",
      "metadata": {
        "colab": {
          "base_uri": "https://localhost:8080/"
        },
        "id": "bX0TAbGwlF2Z",
        "outputId": "82d6bcc1-4bd0-4eb3-eebe-049bebefe15a"
      },
      "source": [
        "7 > 9\n",
        "#> checks if something is greater than"
      ],
      "execution_count": 17,
      "outputs": [
        {
          "output_type": "execute_result",
          "data": {
            "text/plain": [
              "False"
            ]
          },
          "metadata": {},
          "execution_count": 17
        }
      ]
    },
    {
      "cell_type": "code",
      "metadata": {
        "colab": {
          "base_uri": "https://localhost:8080/"
        },
        "id": "kp8caZCwlZEo",
        "outputId": "690e8b8c-9c31-410d-bb9d-72fcb1558492"
      },
      "source": [
        "78 < 898\n",
        "#< checks if something is less than"
      ],
      "execution_count": 18,
      "outputs": [
        {
          "output_type": "execute_result",
          "data": {
            "text/plain": [
              "True"
            ]
          },
          "metadata": {},
          "execution_count": 18
        }
      ]
    },
    {
      "cell_type": "markdown",
      "metadata": {
        "id": "U562PDB6lbva"
      },
      "source": [
        "###Logical Operators"
      ]
    },
    {
      "cell_type": "code",
      "metadata": {
        "colab": {
          "base_uri": "https://localhost:8080/"
        },
        "id": "YUDI6Gy1l1lo",
        "outputId": "a68ec476-9844-45a2-920c-3dcb3121e6bd"
      },
      "source": [
        "3 > 2 >1\n",
        "#you can extend the comparisons"
      ],
      "execution_count": 19,
      "outputs": [
        {
          "output_type": "execute_result",
          "data": {
            "text/plain": [
              "True"
            ]
          },
          "metadata": {},
          "execution_count": 19
        }
      ]
    },
    {
      "cell_type": "code",
      "metadata": {
        "colab": {
          "base_uri": "https://localhost:8080/"
        },
        "id": "yMN78h-_l4tL",
        "outputId": "73254845-c6e4-4e57-c283-633fd0e7df5f"
      },
      "source": [
        "3 > 1 > 2\n",
        "#you can extend the comparisons"
      ],
      "execution_count": 20,
      "outputs": [
        {
          "output_type": "execute_result",
          "data": {
            "text/plain": [
              "False"
            ]
          },
          "metadata": {},
          "execution_count": 20
        }
      ]
    },
    {
      "cell_type": "code",
      "metadata": {
        "colab": {
          "base_uri": "https://localhost:8080/"
        },
        "id": "h9Nbqir_l62s",
        "outputId": "1e5b841a-8f3b-49fb-c223-f28f939b1200"
      },
      "source": [
        "3 > 2 and 2 > 1\n",
        "#you can combine multiple comparison operators AND logical operators"
      ],
      "execution_count": 21,
      "outputs": [
        {
          "output_type": "execute_result",
          "data": {
            "text/plain": [
              "True"
            ]
          },
          "metadata": {},
          "execution_count": 21
        }
      ]
    },
    {
      "cell_type": "code",
      "metadata": {
        "colab": {
          "base_uri": "https://localhost:8080/"
        },
        "id": "GZDHfnpRmIGr",
        "outputId": "9a89a475-dad8-41a3-9488-810873f39ee9"
      },
      "source": [
        "3 > 2 and 1 > 2\n",
        "#\"and\" and  \"or\" are logical operators that can be used with comparisons"
      ],
      "execution_count": 22,
      "outputs": [
        {
          "output_type": "execute_result",
          "data": {
            "text/plain": [
              "False"
            ]
          },
          "metadata": {},
          "execution_count": 22
        }
      ]
    },
    {
      "cell_type": "code",
      "metadata": {
        "colab": {
          "base_uri": "https://localhost:8080/"
        },
        "id": "uSromxwLmNwJ",
        "outputId": "64c0926b-7bfb-4040-e020-7507281bee8b"
      },
      "source": [
        "3 > 2 or 1 > 2\n",
        "#\"and\" and  \"or\" are logical operators that can be used with comparisons"
      ],
      "execution_count": 23,
      "outputs": [
        {
          "output_type": "execute_result",
          "data": {
            "text/plain": [
              "True"
            ]
          },
          "metadata": {},
          "execution_count": 23
        }
      ]
    },
    {
      "cell_type": "code",
      "metadata": {
        "colab": {
          "base_uri": "https://localhost:8080/"
        },
        "id": "h0I2ekYcmTRN",
        "outputId": "8fa7fd95-13d6-4c2f-8ba2-60b0656fe3d6"
      },
      "source": [
        "(3 > 2 and 1 > 2) or (34 > 2 or 2 < 1)\n",
        "#you can even further extend the operation as above"
      ],
      "execution_count": 27,
      "outputs": [
        {
          "output_type": "execute_result",
          "data": {
            "text/plain": [
              "True"
            ]
          },
          "metadata": {},
          "execution_count": 27
        }
      ]
    },
    {
      "cell_type": "code",
      "metadata": {
        "colab": {
          "base_uri": "https://localhost:8080/"
        },
        "id": "4gU4jFUnn06z",
        "outputId": "90dc5c1f-67bf-432e-aeca-c12a330f5146"
      },
      "source": [
        "(3 > 2 and 1 > 2) or (34 > 2 or 2 < 1) and not (90 < 3)\n",
        "#\"and not\" acts as the opposite logical operator of \"and\""
      ],
      "execution_count": 28,
      "outputs": [
        {
          "output_type": "execute_result",
          "data": {
            "text/plain": [
              "True"
            ]
          },
          "metadata": {},
          "execution_count": 28
        }
      ]
    },
    {
      "cell_type": "code",
      "metadata": {
        "colab": {
          "base_uri": "https://localhost:8080/"
        },
        "id": "9AZOeJ0govY-",
        "outputId": "5394b9c1-3c04-4f13-ae1f-39e014b6b32a"
      },
      "source": [
        "(3 > 2 and 1 > 2) or (34 > 2 or 2 < 1) and not (90 > 3)\n",
        "#even further extension of operation"
      ],
      "execution_count": 29,
      "outputs": [
        {
          "output_type": "execute_result",
          "data": {
            "text/plain": [
              "False"
            ]
          },
          "metadata": {},
          "execution_count": 29
        }
      ]
    },
    {
      "cell_type": "code",
      "metadata": {
        "colab": {
          "base_uri": "https://localhost:8080/"
        },
        "id": "L5wTZ-Imoz7W",
        "outputId": "35cb665a-8028-4d7f-834d-e1760b503ff0"
      },
      "source": [
        "((3 > 2 and 1 > 2) or (34 > 2 or 2 < 1)) and not (90 < 3)\n",
        "#even further extension of operation"
      ],
      "execution_count": 30,
      "outputs": [
        {
          "output_type": "execute_result",
          "data": {
            "text/plain": [
              "True"
            ]
          },
          "metadata": {},
          "execution_count": 30
        }
      ]
    },
    {
      "cell_type": "code",
      "metadata": {
        "colab": {
          "base_uri": "https://localhost:8080/"
        },
        "id": "iKlcnyDrpBjf",
        "outputId": "7fdc633d-bb29-4577-b750-54373ce1cc14"
      },
      "source": [
        "'hello' < 'hi'\n",
        "#do not let machine do the thinking. tell it exactly what needs to be done"
      ],
      "execution_count": 31,
      "outputs": [
        {
          "output_type": "execute_result",
          "data": {
            "text/plain": [
              "True"
            ]
          },
          "metadata": {},
          "execution_count": 31
        }
      ]
    },
    {
      "cell_type": "code",
      "metadata": {
        "colab": {
          "base_uri": "https://localhost:8080/"
        },
        "id": "Ku6Ng_H0pn7Q",
        "outputId": "3dc58d47-0af2-445a-bb8b-82c283797995"
      },
      "source": [
        "'hello' > 'hi'\n",
        "#alphabetical order"
      ],
      "execution_count": 32,
      "outputs": [
        {
          "output_type": "execute_result",
          "data": {
            "text/plain": [
              "False"
            ]
          },
          "metadata": {},
          "execution_count": 32
        }
      ]
    },
    {
      "cell_type": "code",
      "metadata": {
        "colab": {
          "base_uri": "https://localhost:8080/"
        },
        "id": "4DLoPyyVpr6L",
        "outputId": "bda9581f-2902-4851-df70-63d34072c135"
      },
      "source": [
        "'a' < 'b'\n",
        "#checking for alphabetical order"
      ],
      "execution_count": 33,
      "outputs": [
        {
          "output_type": "execute_result",
          "data": {
            "text/plain": [
              "True"
            ]
          },
          "metadata": {},
          "execution_count": 33
        }
      ]
    },
    {
      "cell_type": "code",
      "metadata": {
        "colab": {
          "base_uri": "https://localhost:8080/"
        },
        "id": "h4LJLjDWqA8A",
        "outputId": "10668c3e-2fc4-452a-eb01-c1692453498f"
      },
      "source": [
        "'a' > 'b'\n",
        "#checking for alphabetical order"
      ],
      "execution_count": 34,
      "outputs": [
        {
          "output_type": "execute_result",
          "data": {
            "text/plain": [
              "False"
            ]
          },
          "metadata": {},
          "execution_count": 34
        }
      ]
    },
    {
      "cell_type": "code",
      "metadata": {
        "id": "x7hBFlcFqCpG"
      },
      "source": [
        ""
      ],
      "execution_count": null,
      "outputs": []
    },
    {
      "cell_type": "markdown",
      "metadata": {
        "id": "5TC1-6VNtf8Y"
      },
      "source": [
        "###More on lists"
      ]
    },
    {
      "cell_type": "code",
      "metadata": {
        "id": "kzavOj4btn_M"
      },
      "source": [
        "myList = [2, 3, 5, 7, 8, 9]"
      ],
      "execution_count": 38,
      "outputs": []
    },
    {
      "cell_type": "code",
      "metadata": {
        "id": "Mk92HoNJupz6"
      },
      "source": [
        "#Pick one below and stick to it. no rule, but best to be organized\n",
        "\n",
        "#oneWordsecondWord\n",
        "#Camel Case\"\n",
        "\n",
        "#OneWordSecondWord\n",
        "\n",
        "#one_word\n",
        "\n",
        "#_oneword\n",
        "#\"Hidden\" variable\n",
        "\n",
        "#GLOBAL\n",
        "#\"Constant\". Global variables are usually used in the first line"
      ],
      "execution_count": 39,
      "outputs": []
    },
    {
      "cell_type": "code",
      "metadata": {
        "id": "SCdpjzFawBdF"
      },
      "source": [
        "# append\n",
        "\n",
        "myList.append(78)"
      ],
      "execution_count": 45,
      "outputs": []
    },
    {
      "cell_type": "code",
      "metadata": {
        "colab": {
          "base_uri": "https://localhost:8080/"
        },
        "id": "bDN-lO-owG-4",
        "outputId": "d572dadb-87df-4942-ccef-d562e6e028b6"
      },
      "source": [
        "myList"
      ],
      "execution_count": 46,
      "outputs": [
        {
          "output_type": "execute_result",
          "data": {
            "text/plain": [
              "[2, 3, 5, 7, 8, 9, 78]"
            ]
          },
          "metadata": {},
          "execution_count": 46
        }
      ]
    },
    {
      "cell_type": "code",
      "metadata": {
        "colab": {
          "base_uri": "https://localhost:8080/"
        },
        "id": "DKpHd8ynxPda",
        "outputId": "dfc7442c-1c5f-4d8a-ae34-8b346ad40ff6"
      },
      "source": [
        "# count\n",
        "myList.count(5)\n",
        "# counts how many times the defines object occurs in the list"
      ],
      "execution_count": 49,
      "outputs": [
        {
          "output_type": "execute_result",
          "data": {
            "text/plain": [
              "1"
            ]
          },
          "metadata": {},
          "execution_count": 49
        }
      ]
    },
    {
      "cell_type": "code",
      "metadata": {
        "colab": {
          "base_uri": "https://localhost:8080/",
          "height": 37
        },
        "id": "n3j4Nv26xVzj",
        "outputId": "af08c87c-4469-4d5a-a355-9c91086ad154"
      },
      "source": [
        "\"\"\"\n",
        "\n",
        "\"\"\""
      ],
      "execution_count": 50,
      "outputs": [
        {
          "output_type": "execute_result",
          "data": {
            "application/vnd.google.colaboratory.intrinsic+json": {
              "type": "string"
            },
            "text/plain": [
              "'\\n\\n'"
            ]
          },
          "metadata": {},
          "execution_count": 50
        }
      ]
    },
    {
      "cell_type": "code",
      "metadata": {
        "colab": {
          "base_uri": "https://localhost:8080/",
          "height": 37
        },
        "id": "dET1oHbQyOuu",
        "outputId": "3b1f04bd-0fc7-4dff-ef64-3403ef58d7f3"
      },
      "source": [
        "'''\n",
        "\n",
        "'''"
      ],
      "execution_count": 51,
      "outputs": [
        {
          "output_type": "execute_result",
          "data": {
            "application/vnd.google.colaboratory.intrinsic+json": {
              "type": "string"
            },
            "text/plain": [
              "'\\n\\n'"
            ]
          },
          "metadata": {},
          "execution_count": 51
        }
      ]
    },
    {
      "cell_type": "code",
      "metadata": {
        "id": "gB3Oek1UyPm4"
      },
      "source": [
        ""
      ],
      "execution_count": null,
      "outputs": []
    }
  ]
}