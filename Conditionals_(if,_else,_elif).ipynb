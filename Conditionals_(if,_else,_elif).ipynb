{
  "nbformat": 4,
  "nbformat_minor": 0,
  "metadata": {
    "colab": {
      "name": "Conditionals (if, else, elif).ipynb",
      "provenance": [],
      "collapsed_sections": [],
      "authorship_tag": "ABX9TyN7uDOLaJ0F8CZ4tprtTgqd",
      "include_colab_link": true
    },
    "kernelspec": {
      "name": "python3",
      "display_name": "Python 3"
    },
    "language_info": {
      "name": "python"
    }
  },
  "cells": [
    {
      "cell_type": "markdown",
      "metadata": {
        "id": "view-in-github",
        "colab_type": "text"
      },
      "source": [
        "<a href=\"https://colab.research.google.com/github/hwymn/pythonBasics/blob/main/Conditionals_(if%2C_else%2C_elif).ipynb\" target=\"_parent\"><img src=\"https://colab.research.google.com/assets/colab-badge.svg\" alt=\"Open In Colab\"/></a>"
      ]
    },
    {
      "cell_type": "markdown",
      "metadata": {
        "id": "uAk1RWLtn-xf"
      },
      "source": [
        "#Conditionals (if, else, elif)"
      ]
    },
    {
      "cell_type": "code",
      "metadata": {
        "id": "HVr8gvOyoD6T"
      },
      "source": [
        "fruits = ['cherry', 'mangos', 'bananas', 'pineapples', 'grapes']\n",
        "# Brackets create a list"
      ],
      "execution_count": 1,
      "outputs": []
    },
    {
      "cell_type": "code",
      "metadata": {
        "id": "1AJtab0ZoPki"
      },
      "source": [
        "fruitDict = dict.fromkeys(fruits, 'in stock')\n",
        "# .fromkeys is a command that makes a dictionary from a list"
      ],
      "execution_count": 2,
      "outputs": []
    },
    {
      "cell_type": "code",
      "metadata": {
        "colab": {
          "base_uri": "https://localhost:8080/"
        },
        "id": "OaOqGa_FoVfY",
        "outputId": "40458eef-42b9-46fe-e72e-48612ae7dc2f"
      },
      "source": [
        "fruitDict"
      ],
      "execution_count": 3,
      "outputs": [
        {
          "output_type": "execute_result",
          "data": {
            "text/plain": [
              "{'bananas': 'in stock',\n",
              " 'cherry': 'in stock',\n",
              " 'grapes': 'in stock',\n",
              " 'mangos': 'in stock',\n",
              " 'pineapples': 'in stock'}"
            ]
          },
          "metadata": {},
          "execution_count": 3
        }
      ]
    },
    {
      "cell_type": "code",
      "metadata": {
        "colab": {
          "base_uri": "https://localhost:8080/"
        },
        "id": "2Q3Gb-vnoWaN",
        "outputId": "7dcc9acf-a954-4408-855d-5bdb7dc9f5e0"
      },
      "source": [
        "if 3 > 2:\n",
        "  print('hi there')"
      ],
      "execution_count": 4,
      "outputs": [
        {
          "output_type": "stream",
          "name": "stdout",
          "text": [
            "hi there\n"
          ]
        }
      ]
    },
    {
      "cell_type": "code",
      "metadata": {
        "colab": {
          "base_uri": "https://localhost:8080/"
        },
        "id": "QMmOlihho-82",
        "outputId": "5a3a4d8e-7bfb-4390-e7e3-53437313a627"
      },
      "source": [
        "if 4 > 7:\n",
        "  print('Right')\n",
        "else:\n",
        "  print('Wrong')"
      ],
      "execution_count": 5,
      "outputs": [
        {
          "output_type": "stream",
          "name": "stdout",
          "text": [
            "Wrong\n"
          ]
        }
      ]
    },
    {
      "cell_type": "code",
      "metadata": {
        "colab": {
          "base_uri": "https://localhost:8080/"
        },
        "id": "bFonbJOPpTXQ",
        "outputId": "7bd3c53e-a12a-4964-96df-e60d455e3ac0"
      },
      "source": [
        "a = 3\n",
        "b = 5\n",
        "\n",
        "if a > b:\n",
        "  print(\"Yes, it is right!!\")\n",
        "else:\n",
        "  print(\"Try again!!\")"
      ],
      "execution_count": 6,
      "outputs": [
        {
          "output_type": "stream",
          "name": "stdout",
          "text": [
            "Try again!!\n"
          ]
        }
      ]
    },
    {
      "cell_type": "code",
      "metadata": {
        "colab": {
          "base_uri": "https://localhost:8080/"
        },
        "id": "c1oMdX0Ppr8H",
        "outputId": "50b9d47d-3114-44b4-aceb-67606a1236bf"
      },
      "source": [
        "drink = \"Tea\"\n",
        "\n",
        "if drink == \"Coffee\":\n",
        "  print(\"America runs on Dunkin'\")\n",
        "else:\n",
        "  print(\"Where there is tea, there is a hope!\")"
      ],
      "execution_count": 9,
      "outputs": [
        {
          "output_type": "stream",
          "name": "stdout",
          "text": [
            "Where there is tea, there is a hope!!'\n"
          ]
        }
      ]
    },
    {
      "cell_type": "code",
      "metadata": {
        "colab": {
          "base_uri": "https://localhost:8080/"
        },
        "id": "HppmMNEZqFCp",
        "outputId": "2fae8089-4cb2-45a8-a267-cd1fc95fc7d8"
      },
      "source": [
        "drink = input('What would you like to drink? ')\n",
        "\n",
        "if drink == \"Coffee\":\n",
        "  print(\"America runs on Dunkin'\")\n",
        "elif drink == \"Water\":\n",
        "  print(\"That's some high quality H2O!\")\n",
        "elif drink == \"Coke\":\n",
        "  print(\"Coke is fuel for the programmer!\")\n",
        "else:\n",
        "  print(\"Where there is tea, there is hope!\")"
      ],
      "execution_count": 17,
      "outputs": [
        {
          "output_type": "stream",
          "name": "stdout",
          "text": [
            "What would you like to drink? Coffee\n",
            "America runs on Dunkin'\n"
          ]
        }
      ]
    },
    {
      "cell_type": "code",
      "metadata": {
        "id": "XKOpVE7EqQJc"
      },
      "source": [
        "passwords = ['tgrfds', 'htgrfdsa', 'password']"
      ],
      "execution_count": 18,
      "outputs": []
    },
    {
      "cell_type": "code",
      "metadata": {
        "colab": {
          "base_uri": "https://localhost:8080/"
        },
        "id": "7qCtsxHCrzd4",
        "outputId": "3d617a72-79f2-427f-e566-5565d8492ccb"
      },
      "source": [
        "for pw in passwords:\n",
        "  if pw == 'password':\n",
        "    print('Correct password')\n",
        "  else:\n",
        "    print('Try again')"
      ],
      "execution_count": 24,
      "outputs": [
        {
          "output_type": "stream",
          "name": "stdout",
          "text": [
            "Input password: gf\n",
            "Try again\n",
            "Try again\n",
            "Correct password\n"
          ]
        }
      ]
    },
    {
      "cell_type": "code",
      "metadata": {
        "id": "ja4fbyzWsN36"
      },
      "source": [
        ""
      ],
      "execution_count": null,
      "outputs": []
    }
  ]
}