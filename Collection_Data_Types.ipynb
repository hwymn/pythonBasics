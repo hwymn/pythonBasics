{
  "nbformat": 4,
  "nbformat_minor": 0,
  "metadata": {
    "colab": {
      "name": "Collection Data Types.ipynb",
      "provenance": [],
      "collapsed_sections": [],
      "authorship_tag": "ABX9TyN0zDg6LrHn9ssRxN8rZxwN",
      "include_colab_link": true
    },
    "kernelspec": {
      "name": "python3",
      "display_name": "Python 3"
    },
    "language_info": {
      "name": "python"
    }
  },
  "cells": [
    {
      "cell_type": "markdown",
      "metadata": {
        "id": "view-in-github",
        "colab_type": "text"
      },
      "source": [
        "<a href=\"https://colab.research.google.com/github/hwymn/pythonBasics/blob/main/Collection_Data_Types.ipynb\" target=\"_parent\"><img src=\"https://colab.research.google.com/assets/colab-badge.svg\" alt=\"Open In Colab\"/></a>"
      ]
    },
    {
      "cell_type": "markdown",
      "metadata": {
        "id": "JunIJTjrfY7v"
      },
      "source": [
        "# Collection Data Types"
      ]
    },
    {
      "cell_type": "markdown",
      "metadata": {
        "id": "TM_5hONMfv1H"
      },
      "source": [
        "## Lists"
      ]
    },
    {
      "cell_type": "code",
      "metadata": {
        "colab": {
          "base_uri": "https://localhost:8080/"
        },
        "id": "lr9jd0MUfvy5",
        "outputId": "b89b5ffb-d9ab-4f0f-fd55-7e6910c9b61e"
      },
      "source": [
        "myList = ['Hello', 100, 23.47]\n",
        "print(myList)"
      ],
      "execution_count": 2,
      "outputs": [
        {
          "output_type": "stream",
          "name": "stdout",
          "text": [
            "['Hello', 100, 23.47]\n"
          ]
        }
      ]
    },
    {
      "cell_type": "code",
      "metadata": {
        "colab": {
          "base_uri": "https://localhost:8080/"
        },
        "id": "8CqUK1Htfvwf",
        "outputId": "01554b04-90fb-4680-f35e-37e1e0972654"
      },
      "source": [
        "anotherList = ['one', 'two', 'three']\n",
        "anotherList"
      ],
      "execution_count": 4,
      "outputs": [
        {
          "output_type": "execute_result",
          "data": {
            "text/plain": [
              "['one', 'two', 'three']"
            ]
          },
          "metadata": {},
          "execution_count": 4
        }
      ]
    },
    {
      "cell_type": "code",
      "metadata": {
        "colab": {
          "base_uri": "https://localhost:8080/"
        },
        "id": "VztXQ7XviR42",
        "outputId": "cd116b4c-656a-4e3b-aaaa-6ff38d1b0531"
      },
      "source": [
        "newList = myList + anotherList\n",
        "newList"
      ],
      "execution_count": 6,
      "outputs": [
        {
          "output_type": "execute_result",
          "data": {
            "text/plain": [
              "['Hello', 100, 23.47, 'one', 'two', 'three']"
            ]
          },
          "metadata": {},
          "execution_count": 6
        }
      ]
    },
    {
      "cell_type": "code",
      "metadata": {
        "id": "CKBzT3vXiZZ5"
      },
      "source": [
        "emptyList = [ ]"
      ],
      "execution_count": 7,
      "outputs": []
    },
    {
      "cell_type": "markdown",
      "metadata": {
        "id": "-WJqsOwZieIg"
      },
      "source": [
        "### Indexing through lists"
      ]
    },
    {
      "cell_type": "code",
      "metadata": {
        "colab": {
          "base_uri": "https://localhost:8080/"
        },
        "id": "xWAUkcazmitl",
        "outputId": "a89f2e9e-3134-4145-a203-9680f545799f"
      },
      "source": [
        "cars = ['Mercedes', 'Volvo', 'Jaguar', 'BMW', 'Audi']\n",
        "cars"
      ],
      "execution_count": 8,
      "outputs": [
        {
          "output_type": "execute_result",
          "data": {
            "text/plain": [
              "['Mercedes', 'Volvo', 'Jaguar', 'BMW', 'Audi']"
            ]
          },
          "metadata": {},
          "execution_count": 8
        }
      ]
    },
    {
      "cell_type": "code",
      "metadata": {
        "colab": {
          "base_uri": "https://localhost:8080/"
        },
        "id": "B5f4Hu0Fmwio",
        "outputId": "ef7c5604-4bee-471d-a9ca-18674e80f14f"
      },
      "source": [
        "len(cars)\n",
        "# len is used to find how many items are in a list"
      ],
      "execution_count": 9,
      "outputs": [
        {
          "output_type": "execute_result",
          "data": {
            "text/plain": [
              "5"
            ]
          },
          "metadata": {},
          "execution_count": 9
        }
      ]
    },
    {
      "cell_type": "code",
      "metadata": {
        "colab": {
          "base_uri": "https://localhost:8080/",
          "height": 37
        },
        "id": "ybNRB4mwm5SA",
        "outputId": "2fc75a9d-c8e9-49cb-a50f-95a6b3259f90"
      },
      "source": [
        "name = 'General Kenobi'\n",
        "name"
      ],
      "execution_count": 10,
      "outputs": [
        {
          "output_type": "execute_result",
          "data": {
            "application/vnd.google.colaboratory.intrinsic+json": {
              "type": "string"
            },
            "text/plain": [
              "'General Kenobi'"
            ]
          },
          "metadata": {},
          "execution_count": 10
        }
      ]
    },
    {
      "cell_type": "code",
      "metadata": {
        "colab": {
          "base_uri": "https://localhost:8080/"
        },
        "id": "NMQn9Y6um_Hx",
        "outputId": "5e8c7e0a-810f-4134-8f93-f4fefb848823"
      },
      "source": [
        "len(name)\n",
        "# Using len with a single string, it shows the character count (including the spaces)"
      ],
      "execution_count": 12,
      "outputs": [
        {
          "output_type": "execute_result",
          "data": {
            "text/plain": [
              "14"
            ]
          },
          "metadata": {},
          "execution_count": 12
        }
      ]
    },
    {
      "cell_type": "markdown",
      "metadata": {
        "id": "UrRs3XNlnMv-"
      },
      "source": [
        "### Editing Lists"
      ]
    },
    {
      "cell_type": "code",
      "metadata": {
        "colab": {
          "base_uri": "https://localhost:8080/"
        },
        "id": "y2Q7LoMZoEZE",
        "outputId": "b2cdade5-e4f7-4a17-d501-9d90e4ee4f9d"
      },
      "source": [
        "cars[0] = 'Tesla'\n",
        "cars"
      ],
      "execution_count": 13,
      "outputs": [
        {
          "output_type": "execute_result",
          "data": {
            "text/plain": [
              "['Tesla', 'Volvo', 'Jaguar', 'BMW', 'Audi']"
            ]
          },
          "metadata": {},
          "execution_count": 13
        }
      ]
    },
    {
      "cell_type": "code",
      "metadata": {
        "colab": {
          "base_uri": "https://localhost:8080/"
        },
        "id": "kezuWLgcoEWn",
        "outputId": "2211ad0b-9ffc-4528-c462-4e04bc724d34"
      },
      "source": [
        "cars.append('Jeep')\n",
        "cars"
      ],
      "execution_count": 14,
      "outputs": [
        {
          "output_type": "execute_result",
          "data": {
            "text/plain": [
              "['Tesla', 'Volvo', 'Jaguar', 'BMW', 'Audi', 'Jeep']"
            ]
          },
          "metadata": {},
          "execution_count": 14
        }
      ]
    },
    {
      "cell_type": "code",
      "metadata": {
        "colab": {
          "base_uri": "https://localhost:8080/"
        },
        "id": "QoFAcWakoEUe",
        "outputId": "515436d5-6530-4513-956c-f21a5165d8ea"
      },
      "source": [
        "cars"
      ],
      "execution_count": 15,
      "outputs": [
        {
          "output_type": "execute_result",
          "data": {
            "text/plain": [
              "['Tesla', 'Volvo', 'Jaguar', 'BMW', 'Audi', 'Jeep']"
            ]
          },
          "metadata": {},
          "execution_count": 15
        }
      ]
    },
    {
      "cell_type": "code",
      "metadata": {
        "colab": {
          "base_uri": "https://localhost:8080/",
          "height": 37
        },
        "id": "tp8LxpYgoESG",
        "outputId": "9b1a5cb6-5154-471f-8bfb-683f8df17097"
      },
      "source": [
        "cars.pop()\n",
        "# pop removes the last item from list when \"()\" is empty. You can also type the place in list (#) in the \"()\" and it will remove that specific item."
      ],
      "execution_count": 17,
      "outputs": [
        {
          "output_type": "execute_result",
          "data": {
            "application/vnd.google.colaboratory.intrinsic+json": {
              "type": "string"
            },
            "text/plain": [
              "'Jeep'"
            ]
          },
          "metadata": {},
          "execution_count": 17
        }
      ]
    },
    {
      "cell_type": "code",
      "metadata": {
        "colab": {
          "base_uri": "https://localhost:8080/"
        },
        "id": "-NSiUH4Yomtw",
        "outputId": "7b13faf0-38b0-4555-f4bb-c97ea0852a06"
      },
      "source": [
        "cars.remove('Volvo')\n",
        "cars\n",
        "# remove removes the specific item you type the name of"
      ],
      "execution_count": 21,
      "outputs": [
        {
          "output_type": "execute_result",
          "data": {
            "text/plain": [
              "['Tesla', 'Jaguar', 'Audi']"
            ]
          },
          "metadata": {},
          "execution_count": 21
        }
      ]
    },
    {
      "cell_type": "code",
      "metadata": {
        "id": "IV77QY1co82T"
      },
      "source": [
        "even = [2,4,6,8]\n",
        "odd = [1,3,5,7,9]"
      ],
      "execution_count": 22,
      "outputs": []
    },
    {
      "cell_type": "code",
      "metadata": {
        "colab": {
          "base_uri": "https://localhost:8080/"
        },
        "id": "h8iBg6UUpPAX",
        "outputId": "5f8d36f1-ad15-4ec7-f98f-a54196b63e12"
      },
      "source": [
        "numbers = odd + even\n",
        "numbers"
      ],
      "execution_count": 24,
      "outputs": [
        {
          "output_type": "execute_result",
          "data": {
            "text/plain": [
              "[1, 3, 7, 9, 2, 4, 6, 8]"
            ]
          },
          "metadata": {},
          "execution_count": 24
        }
      ]
    },
    {
      "cell_type": "code",
      "metadata": {
        "colab": {
          "base_uri": "https://localhost:8080/"
        },
        "id": "TKjjg6Xkpb_t",
        "outputId": "b244281c-a962-4b14-bf61-39c65b283bbc"
      },
      "source": [
        "type(12)\n",
        "# type shows you the type of object in the \"()\""
      ],
      "execution_count": 26,
      "outputs": [
        {
          "output_type": "execute_result",
          "data": {
            "text/plain": [
              "int"
            ]
          },
          "metadata": {},
          "execution_count": 26
        }
      ]
    },
    {
      "cell_type": "code",
      "metadata": {
        "colab": {
          "base_uri": "https://localhost:8080/"
        },
        "id": "pGTI-NcQqDDY",
        "outputId": "ad83ac1c-01ae-46a9-9e2d-49297455743a"
      },
      "source": [
        "max(numbers)\n",
        "# max returns the largest value in a list"
      ],
      "execution_count": 28,
      "outputs": [
        {
          "output_type": "execute_result",
          "data": {
            "text/plain": [
              "9"
            ]
          },
          "metadata": {},
          "execution_count": 28
        }
      ]
    },
    {
      "cell_type": "code",
      "metadata": {
        "colab": {
          "base_uri": "https://localhost:8080/"
        },
        "id": "iRhujtWNqoc1",
        "outputId": "39990233-2c91-425c-de57-5bcd598d1b73"
      },
      "source": [
        "min(numbers)\n",
        "# min returns the smallest number in a list"
      ],
      "execution_count": 29,
      "outputs": [
        {
          "output_type": "execute_result",
          "data": {
            "text/plain": [
              "1"
            ]
          },
          "metadata": {},
          "execution_count": 29
        }
      ]
    },
    {
      "cell_type": "code",
      "metadata": {
        "colab": {
          "base_uri": "https://localhost:8080/",
          "height": 37
        },
        "id": "PcbBB4vgqrgo",
        "outputId": "bf83eb7c-659c-4d3b-e1fa-a295652592cb"
      },
      "source": [
        "'''\n",
        "concatenation\n",
        "Define emplty list\n",
        "Indexing in list\n",
        "Editing the list\n",
        "Add list into list\n",
        "Python in-build functions with the lists\n",
        "'''"
      ],
      "execution_count": 39,
      "outputs": [
        {
          "output_type": "execute_result",
          "data": {
            "application/vnd.google.colaboratory.intrinsic+json": {
              "type": "string"
            },
            "text/plain": [
              "'\\nconcatenation\\nDefine emplty list\\nIndexing in list\\nEditing the list\\nAdd list into list\\nPython in-build functions with the lists\\n'"
            ]
          },
          "metadata": {},
          "execution_count": 39
        }
      ]
    },
    {
      "cell_type": "markdown",
      "metadata": {
        "id": "tYJaqSlGfvuF"
      },
      "source": [
        "## Dictionaries"
      ]
    },
    {
      "cell_type": "code",
      "metadata": {
        "colab": {
          "base_uri": "https://localhost:8080/"
        },
        "id": "dJEoIWhLfvrv",
        "outputId": "84c2e446-0fed-4784-f1fe-bab99eb9ac54"
      },
      "source": [
        "myDict ={'key1':'value1', 'key2':'value2', 'key3':'value3'}\n",
        "myDict"
      ],
      "execution_count": 42,
      "outputs": [
        {
          "output_type": "execute_result",
          "data": {
            "text/plain": [
              "{'key1': 'value1', 'key2': 'value2', 'key3': 'value3'}"
            ]
          },
          "metadata": {},
          "execution_count": 42
        }
      ]
    },
    {
      "cell_type": "code",
      "metadata": {
        "colab": {
          "base_uri": "https://localhost:8080/",
          "height": 37
        },
        "id": "k_eAChX9hW2v",
        "outputId": "709714e3-378f-491c-e262-3af259c1217e"
      },
      "source": [
        "myDict['key1']"
      ],
      "execution_count": 43,
      "outputs": [
        {
          "output_type": "execute_result",
          "data": {
            "application/vnd.google.colaboratory.intrinsic+json": {
              "type": "string"
            },
            "text/plain": [
              "'value1'"
            ]
          },
          "metadata": {},
          "execution_count": 43
        }
      ]
    },
    {
      "cell_type": "code",
      "metadata": {
        "colab": {
          "base_uri": "https://localhost:8080/",
          "height": 37
        },
        "id": "ZWvfg_UDsfeu",
        "outputId": "d1022f00-85aa-443e-8398-f4c54a51ce24"
      },
      "source": [
        "fruitPrices = {'pen':'$1', 'pineapple':'$5', 'applePen':'$2', 'notTomato':'$4', 'blueberries':'$3', 'lemon':'$7', 'lime':'$6', 'sprite':'$2.50', 'pear':'$1.25', 'bonana':'$5.50'}\n",
        "fruitPrices['sprite']"
      ],
      "execution_count": 47,
      "outputs": [
        {
          "output_type": "execute_result",
          "data": {
            "application/vnd.google.colaboratory.intrinsic+json": {
              "type": "string"
            },
            "text/plain": [
              "'$2.50'"
            ]
          },
          "metadata": {},
          "execution_count": 47
        }
      ]
    },
    {
      "cell_type": "code",
      "metadata": {
        "colab": {
          "base_uri": "https://localhost:8080/"
        },
        "id": "6jg_ASS7uHZg",
        "outputId": "9a16387e-d847-4790-82ef-fe7cb14d997a"
      },
      "source": [
        "fruitPrices.keys()"
      ],
      "execution_count": 51,
      "outputs": [
        {
          "output_type": "execute_result",
          "data": {
            "text/plain": [
              "dict_keys(['pen', 'pineapple', 'applePen', 'notTomato', 'blueberries', 'lemon', 'lime', 'sprite', 'pear', 'bonana'])"
            ]
          },
          "metadata": {},
          "execution_count": 51
        }
      ]
    },
    {
      "cell_type": "code",
      "metadata": {
        "colab": {
          "base_uri": "https://localhost:8080/"
        },
        "id": "djV6YorzukVU",
        "outputId": "8b83443c-5292-46a8-f457-2c65214df1b5"
      },
      "source": [
        "fruitPrices.values()"
      ],
      "execution_count": 52,
      "outputs": [
        {
          "output_type": "execute_result",
          "data": {
            "text/plain": [
              "dict_values(['$1', '$5', '$2', '$4', '$3', '$7', '$6', '$2.50', '$1.25', '$5.50'])"
            ]
          },
          "metadata": {},
          "execution_count": 52
        }
      ]
    },
    {
      "cell_type": "code",
      "metadata": {
        "colab": {
          "base_uri": "https://localhost:8080/"
        },
        "id": "YCo-HytaunjB",
        "outputId": "deeae538-d618-408a-c532-449b804c0e3e"
      },
      "source": [
        "fruitPrices.items()"
      ],
      "execution_count": 53,
      "outputs": [
        {
          "output_type": "execute_result",
          "data": {
            "text/plain": [
              "dict_items([('pen', '$1'), ('pineapple', '$5'), ('applePen', '$2'), ('notTomato', '$4'), ('blueberries', '$3'), ('lemon', '$7'), ('lime', '$6'), ('sprite', '$2.50'), ('pear', '$1.25'), ('bonana', '$5.50')])"
            ]
          },
          "metadata": {},
          "execution_count": 53
        }
      ]
    },
    {
      "cell_type": "code",
      "metadata": {
        "id": "p5orEEFWu9aB"
      },
      "source": [
        "'''\n",
        "Define a dictionary\n",
        "Dictionaries with all data types\n",
        "Add values\n",
        "Replace values\n",
        "Keys, values, and Items retrieval\n",
        "'''"
      ],
      "execution_count": null,
      "outputs": []
    },
    {
      "cell_type": "markdown",
      "metadata": {
        "id": "_ep_Vm8BhWmb"
      },
      "source": [
        "## Tuples"
      ]
    },
    {
      "cell_type": "code",
      "metadata": {
        "colab": {
          "base_uri": "https://localhost:8080/"
        },
        "id": "fTATafa-ha9p",
        "outputId": "5cb08b49-1316-4bdb-c7f2-57f584ab856f"
      },
      "source": [
        "prime_numbers = (2, 3, 5, 7, 11)\n",
        "print(prime_numbers)\n",
        "# Tuples use parenthesis"
      ],
      "execution_count": 57,
      "outputs": [
        {
          "output_type": "stream",
          "name": "stdout",
          "text": [
            "(2, 3, 5, 7, 11)\n"
          ]
        },
        {
          "output_type": "execute_result",
          "data": {
            "text/plain": [
              "tuple"
            ]
          },
          "metadata": {},
          "execution_count": 57
        }
      ]
    },
    {
      "cell_type": "code",
      "metadata": {
        "colab": {
          "base_uri": "https://localhost:8080/"
        },
        "id": "C8A0BpuyhcEM",
        "outputId": "b67e9f15-c7ad-4262-ca77-0945be329c04"
      },
      "source": [
        "type(prime_numbers)"
      ],
      "execution_count": 58,
      "outputs": [
        {
          "output_type": "execute_result",
          "data": {
            "text/plain": [
              "tuple"
            ]
          },
          "metadata": {},
          "execution_count": 58
        }
      ]
    },
    {
      "cell_type": "code",
      "metadata": {
        "colab": {
          "base_uri": "https://localhost:8080/"
        },
        "id": "YaAzM8gKyCra",
        "outputId": "6d8dd0cd-892a-4370-87a5-58e9947e0eba"
      },
      "source": [
        "perfect_numbers = [1, 4, 9, 16, 25, 36]\n",
        "type(perfect_numbers)"
      ],
      "execution_count": 59,
      "outputs": [
        {
          "output_type": "execute_result",
          "data": {
            "text/plain": [
              "list"
            ]
          },
          "metadata": {},
          "execution_count": 59
        }
      ]
    },
    {
      "cell_type": "code",
      "metadata": {
        "id": "vUcqHe1tySJt"
      },
      "source": [
        "# Tuples are the same as lists, but are immutable. Meaning, can't edit tuples like lists with things like \"remove\" and \"append\""
      ],
      "execution_count": 65,
      "outputs": []
    },
    {
      "cell_type": "code",
      "metadata": {
        "colab": {
          "base_uri": "https://localhost:8080/",
          "height": 164
        },
        "id": "ek7PWvqQy99g",
        "outputId": "6991dfdd-98f4-415d-ecf0-d2bfb4937083"
      },
      "source": [
        "prime_numbers.append(49)\n",
        "# This doesn't work"
      ],
      "execution_count": 67,
      "outputs": [
        {
          "output_type": "error",
          "ename": "AttributeError",
          "evalue": "ignored",
          "traceback": [
            "\u001b[0;31m---------------------------------------------------------------------------\u001b[0m",
            "\u001b[0;31mAttributeError\u001b[0m                            Traceback (most recent call last)",
            "\u001b[0;32m<ipython-input-67-46789a0c4d2f>\u001b[0m in \u001b[0;36m<module>\u001b[0;34m()\u001b[0m\n\u001b[0;32m----> 1\u001b[0;31m \u001b[0mprime_numbers\u001b[0m\u001b[0;34m.\u001b[0m\u001b[0mappend\u001b[0m\u001b[0;34m(\u001b[0m\u001b[0;36m49\u001b[0m\u001b[0;34m)\u001b[0m\u001b[0;34m\u001b[0m\u001b[0;34m\u001b[0m\u001b[0m\n\u001b[0m",
            "\u001b[0;31mAttributeError\u001b[0m: 'tuple' object has no attribute 'append'"
          ]
        }
      ]
    },
    {
      "cell_type": "code",
      "metadata": {
        "id": "Rc3mujgkyaHq"
      },
      "source": [
        "myTuple = ('name', 110, 12.635)"
      ],
      "execution_count": 61,
      "outputs": []
    },
    {
      "cell_type": "code",
      "metadata": {
        "colab": {
          "base_uri": "https://localhost:8080/"
        },
        "id": "hEgCrm-AyicN",
        "outputId": "4dc5389a-d0a4-4288-af5f-75a4eb2d40f2"
      },
      "source": [
        "myTuple.count(110)"
      ],
      "execution_count": 62,
      "outputs": [
        {
          "output_type": "execute_result",
          "data": {
            "text/plain": [
              "1"
            ]
          },
          "metadata": {},
          "execution_count": 62
        }
      ]
    },
    {
      "cell_type": "code",
      "metadata": {
        "colab": {
          "base_uri": "https://localhost:8080/"
        },
        "id": "m2Dp_QEZylkb",
        "outputId": "0580d13f-4e40-412c-e4ac-c0820f5c5496"
      },
      "source": [
        "prime_numbers[3]"
      ],
      "execution_count": 64,
      "outputs": [
        {
          "output_type": "execute_result",
          "data": {
            "text/plain": [
              "7"
            ]
          },
          "metadata": {},
          "execution_count": 64
        }
      ]
    },
    {
      "cell_type": "code",
      "metadata": {
        "id": "TNCQKBb5ypLY"
      },
      "source": [
        ""
      ],
      "execution_count": null,
      "outputs": []
    }
  ]
}