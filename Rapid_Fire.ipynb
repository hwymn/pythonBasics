{
  "nbformat": 4,
  "nbformat_minor": 0,
  "metadata": {
    "colab": {
      "name": "Rapid Fire.ipynb",
      "provenance": [],
      "collapsed_sections": [],
      "authorship_tag": "ABX9TyNt+v3qrTnpvPb68AqYAVkT",
      "include_colab_link": true
    },
    "kernelspec": {
      "name": "python3",
      "display_name": "Python 3"
    },
    "language_info": {
      "name": "python"
    }
  },
  "cells": [
    {
      "cell_type": "markdown",
      "metadata": {
        "id": "view-in-github",
        "colab_type": "text"
      },
      "source": [
        "<a href=\"https://colab.research.google.com/github/hwymn/pythonBasics/blob/main/Rapid_Fire.ipynb\" target=\"_parent\"><img src=\"https://colab.research.google.com/assets/colab-badge.svg\" alt=\"Open In Colab\"/></a>"
      ]
    },
    {
      "cell_type": "code",
      "metadata": {
        "id": "-df4a_fgrAK7"
      },
      "source": [
        "# \"The problem to be solved\"\n",
        "\n",
        "# 1. What do I want?\n",
        "# \"State the problem\"\n",
        "\n",
        "# 2. What do I need?\n",
        "# \"Design your problem solution (algorithm)\"\n",
        "\n",
        "# 3. What do I have?\n",
        "# \"Data provided by either the problem itself or assumed data\""
      ],
      "execution_count": null,
      "outputs": []
    },
    {
      "cell_type": "markdown",
      "metadata": {
        "id": "YtX7Tz0-sBgA"
      },
      "source": [
        "## 1. Return the count of a given substring from a string"
      ]
    },
    {
      "cell_type": "markdown",
      "metadata": {
        "id": "2iLDX6b_wRuh"
      },
      "source": [
        "###What do I want?"
      ]
    },
    {
      "cell_type": "markdown",
      "metadata": {
        "id": "lDQhiJXLwcx5"
      },
      "source": [
        "The length of a string"
      ]
    },
    {
      "cell_type": "markdown",
      "metadata": {
        "id": "uA_b7BjfwWtW"
      },
      "source": [
        "### What do I need?"
      ]
    },
    {
      "cell_type": "markdown",
      "metadata": {
        "id": "PXoSIh3Cwdbw"
      },
      "source": [
        "The string and len command"
      ]
    },
    {
      "cell_type": "markdown",
      "metadata": {
        "id": "1Wn4Kz0FwZWs"
      },
      "source": [
        "###What do I have?"
      ]
    },
    {
      "cell_type": "markdown",
      "metadata": {
        "id": "_CqJGoZtwd_1"
      },
      "source": [
        "The len function (assumed data)"
      ]
    },
    {
      "cell_type": "markdown",
      "metadata": {
        "id": "Y3qKsuypwew5"
      },
      "source": [
        "### The solution"
      ]
    },
    {
      "cell_type": "code",
      "metadata": {
        "id": "dH0FczyFwlLz",
        "colab": {
          "base_uri": "https://localhost:8080/"
        },
        "outputId": "e8744a75-01e9-4033-859e-f3d7dc07327d"
      },
      "source": [
        "s = input('Type any 5 letter word. ')\n",
        "# Define a string\n",
        "if len(s) != 5:\n",
        "  print ('Must be 5 letters')\n",
        "  exit()\n",
        "else: print(len(s[1:3]))\n",
        "# Take a substring (via range function) from the parent string and use the len function on it"
      ],
      "execution_count": 12,
      "outputs": [
        {
          "output_type": "stream",
          "name": "stdout",
          "text": [
            "Type any 5 letter word. Arggh\n",
            "2\n"
          ]
        }
      ]
    },
    {
      "cell_type": "markdown",
      "metadata": {
        "id": "5gBlhaCSxqiZ"
      },
      "source": [
        "## 2. Display numbers divisible by 5 from a list"
      ]
    },
    {
      "cell_type": "markdown",
      "metadata": {
        "id": "XRHJyoIwy6Gk"
      },
      "source": [
        "### What do I want?"
      ]
    },
    {
      "cell_type": "markdown",
      "metadata": {
        "id": "acEvwKeGzROy"
      },
      "source": [
        "Numbers divisible by 5 from a list"
      ]
    },
    {
      "cell_type": "markdown",
      "metadata": {
        "id": "BpbGYywgzT1T"
      },
      "source": [
        "### What do I need?"
      ]
    },
    {
      "cell_type": "markdown",
      "metadata": {
        "id": "n8Qyw5LYzYuI"
      },
      "source": [
        "A list and the appropriate function"
      ]
    },
    {
      "cell_type": "markdown",
      "metadata": {
        "id": "AYgeUe7-zY7a"
      },
      "source": [
        "### What do I have?"
      ]
    },
    {
      "cell_type": "markdown",
      "metadata": {
        "id": "LR7nhR0tzcyc"
      },
      "source": [
        "The commands"
      ]
    },
    {
      "cell_type": "markdown",
      "metadata": {
        "id": "vN0j0w2JzdL1"
      },
      "source": [
        "### The solution"
      ]
    },
    {
      "cell_type": "code",
      "metadata": {
        "id": "C2T8Y6ERzjfx",
        "colab": {
          "base_uri": "https://localhost:8080/"
        },
        "outputId": "d5409d87-df20-4993-8e4d-1540fbd7cf7b"
      },
      "source": [
        "l = [1,5,10,15,25,27]\n",
        "# Define a list\n",
        "for i in l:\n",
        "  if i%5 == 0:\n",
        "# Check if i is divisible by 5 by checkng if there is no remainder when dividing by 5\n",
        "    print(i)"
      ],
      "execution_count": 11,
      "outputs": [
        {
          "output_type": "stream",
          "name": "stdout",
          "text": [
            "5\n",
            "10\n",
            "15\n",
            "25\n"
          ]
        }
      ]
    },
    {
      "cell_type": "markdown",
      "metadata": {
        "id": "-XvmOFSK6CWK"
      },
      "source": [
        "## 3. Check if the first and last number of a list are the same"
      ]
    },
    {
      "cell_type": "markdown",
      "metadata": {
        "id": "PCRRDzw-_k1E"
      },
      "source": [
        "### What do I want?"
      ]
    },
    {
      "cell_type": "markdown",
      "metadata": {
        "id": "Ksg-oIEfAi-A"
      },
      "source": [
        "To check if the first and last number in a list are equal"
      ]
    },
    {
      "cell_type": "markdown",
      "metadata": {
        "id": "8hSs7z72_odt"
      },
      "source": [
        "### What to I need?"
      ]
    },
    {
      "cell_type": "markdown",
      "metadata": {
        "id": "_R2CzHCSAosg"
      },
      "source": [
        "A list and comparative operator"
      ]
    },
    {
      "cell_type": "markdown",
      "metadata": {
        "id": "bjVRxNtv_tbB"
      },
      "source": [
        "### What do I have?"
      ]
    },
    {
      "cell_type": "markdown",
      "metadata": {
        "id": "Wa6ctILMAsVw"
      },
      "source": [
        "A comparative operator"
      ]
    },
    {
      "cell_type": "markdown",
      "metadata": {
        "id": "QP5FA_cR_vlw"
      },
      "source": [
        "### The solution"
      ]
    },
    {
      "cell_type": "code",
      "metadata": {
        "colab": {
          "base_uri": "https://localhost:8080/"
        },
        "id": "wco7GpVhAu78",
        "outputId": "4aa0bfe9-e006-423e-eb3d-4b475214b449"
      },
      "source": [
        "l = [1,2,1,4,1,5,1,2]\n",
        "# Create that list\n",
        "if l[0] == l[-1]:\n",
        "# Check that list (for matching first and last number)\n",
        "  print('Its a match!')\n",
        "else:\n",
        "  print('Too bad')"
      ],
      "execution_count": 18,
      "outputs": [
        {
          "output_type": "stream",
          "name": "stdout",
          "text": [
            "Too bad\n"
          ]
        }
      ]
    },
    {
      "cell_type": "markdown",
      "metadata": {
        "id": "-SJ7-vRvBFRU"
      },
      "source": [
        "## 4. Print multiplication table from 1 to 10"
      ]
    },
    {
      "cell_type": "markdown",
      "metadata": {
        "id": "B2QQwcEzCBd4"
      },
      "source": [
        "###What do I want?"
      ]
    },
    {
      "cell_type": "markdown",
      "metadata": {
        "id": "4jDpiXnxGb5g"
      },
      "source": [
        "A table that shows all numbers from 1 to 10 multiplied by eachother"
      ]
    },
    {
      "cell_type": "markdown",
      "metadata": {
        "id": "kvpd0aooCD88"
      },
      "source": [
        "###What do I have?"
      ]
    },
    {
      "cell_type": "code",
      "metadata": {
        "id": "1O-5h9G6GnDC"
      },
      "source": [
        "Nested lists"
      ],
      "execution_count": null,
      "outputs": []
    },
    {
      "cell_type": "markdown",
      "metadata": {
        "id": "fAcTtLcdCGm0"
      },
      "source": [
        "###What do I need?"
      ]
    },
    {
      "cell_type": "markdown",
      "metadata": {
        "id": "_l0ZoiUTGoln"
      },
      "source": [
        " To properly apply muliplication and lists"
      ]
    },
    {
      "cell_type": "markdown",
      "metadata": {
        "id": "-9QWHgQDCJE5"
      },
      "source": [
        "###The solution"
      ]
    },
    {
      "cell_type": "code",
      "metadata": {
        "colab": {
          "base_uri": "https://localhost:8080/"
        },
        "id": "GV6saxd7G1XR",
        "outputId": "972f8bc2-5213-4426-e693-5cc1a6843dee"
      },
      "source": [
        "n = 10\n",
        "m = list(list(range(1*i,(n+1)*i, i)) for i in range(1,n+1))\n",
        "for i in m:\n",
        "  i = [str(j).rjust(len(str(m[-1][-1]))+1)for j in i]\n",
        "  print(' '.join(i))"
      ],
      "execution_count": 72,
      "outputs": [
        {
          "output_type": "stream",
          "name": "stdout",
          "text": [
            "   1    2    3    4    5    6    7    8    9   10\n",
            "   2    4    6    8   10   12   14   16   18   20\n",
            "   3    6    9   12   15   18   21   24   27   30\n",
            "   4    8   12   16   20   24   28   32   36   40\n",
            "   5   10   15   20   25   30   35   40   45   50\n",
            "   6   12   18   24   30   36   42   48   54   60\n",
            "   7   14   21   28   35   42   49   56   63   70\n",
            "   8   16   24   32   40   48   56   64   72   80\n",
            "   9   18   27   36   45   54   63   72   81   90\n",
            "  10   20   30   40   50   60   70   80   90  100\n"
          ]
        }
      ]
    },
    {
      "cell_type": "markdown",
      "metadata": {
        "id": "yEG9CRDWHHMU"
      },
      "source": [
        "## 5. Display the current date and time"
      ]
    },
    {
      "cell_type": "markdown",
      "metadata": {
        "id": "0hLXs4yoKhz5"
      },
      "source": [
        "###What do I want?"
      ]
    },
    {
      "cell_type": "markdown",
      "metadata": {
        "id": "JoSLhuKrMKKf"
      },
      "source": [
        "Date and time"
      ]
    },
    {
      "cell_type": "markdown",
      "metadata": {
        "id": "CxQ4ZLrXKkct"
      },
      "source": [
        "###What do I have?"
      ]
    },
    {
      "cell_type": "markdown",
      "metadata": {
        "id": "rXva_zFAMMQD"
      },
      "source": [
        "Python library \"datetime\""
      ]
    },
    {
      "cell_type": "markdown",
      "metadata": {
        "id": "p2-fxjnHKtli"
      },
      "source": [
        "###What do I need?"
      ]
    },
    {
      "cell_type": "markdown",
      "metadata": {
        "id": "F9cTjJ0aMSAp"
      },
      "source": [
        "To print the date and time after importing the date and time"
      ]
    },
    {
      "cell_type": "markdown",
      "metadata": {
        "id": "olvOGDqKKzQv"
      },
      "source": [
        "###The solution"
      ]
    },
    {
      "cell_type": "code",
      "metadata": {
        "colab": {
          "base_uri": "https://localhost:8080/"
        },
        "id": "tfZEBTtrK_bm",
        "outputId": "088e856f-4ddf-48ba-d2dc-20c11a583748"
      },
      "source": [
        "from datetime import datetime\n",
        "#Imports the date and time\n",
        "print(datetime.now())\n",
        "#Prints the date and time\n",
        "#https://www.programiz.com/python-programming/datetime/current-time"
      ],
      "execution_count": 64,
      "outputs": [
        {
          "output_type": "stream",
          "name": "stdout",
          "text": [
            "2021-11-12 17:28:56.930653\n"
          ]
        }
      ]
    },
    {
      "cell_type": "markdown",
      "metadata": {
        "id": "Rd6BBAIULSE5"
      },
      "source": [
        "##6. Print first and last name in reverse order with a space between them"
      ]
    },
    {
      "cell_type": "markdown",
      "metadata": {
        "id": "L5f30lBGNw5u"
      },
      "source": [
        "###What do I want?"
      ]
    },
    {
      "cell_type": "markdown",
      "metadata": {
        "id": "NlVQwN46N6Tj"
      },
      "source": [
        "Print first and last name in reverse order with a space between them"
      ]
    },
    {
      "cell_type": "markdown",
      "metadata": {
        "id": "2FXCzPalNw1r"
      },
      "source": [
        "###What do I have?"
      ]
    },
    {
      "cell_type": "markdown",
      "metadata": {
        "id": "Z518oFSXN6-q"
      },
      "source": [
        "I've got a name"
      ]
    },
    {
      "cell_type": "markdown",
      "metadata": {
        "id": "ZxQMLu38Nwxu"
      },
      "source": [
        "###What do I need?"
      ]
    },
    {
      "cell_type": "markdown",
      "metadata": {
        "id": "Ne7VCamHN8Eb"
      },
      "source": [
        "An alternate identity, maybe my name backwards..."
      ]
    },
    {
      "cell_type": "markdown",
      "metadata": {
        "id": "pwRtE8AkNwiS"
      },
      "source": [
        "###The solution"
      ]
    },
    {
      "cell_type": "code",
      "metadata": {
        "colab": {
          "base_uri": "https://localhost:8080/"
        },
        "id": "Fik_O6_7N8nS",
        "outputId": "8f04c751-a4db-44ba-9a4c-5ceae33d0967"
      },
      "source": [
        "n = [\"Alexander\", \"Feigl\"]\n",
        "# I put my name down\n",
        "print(n[1], n[0])\n",
        "# Flip it and reverse it"
      ],
      "execution_count": 77,
      "outputs": [
        {
          "output_type": "stream",
          "name": "stdout",
          "text": [
            "Feigl Alexander\n"
          ]
        }
      ]
    },
    {
      "cell_type": "code",
      "metadata": {
        "colab": {
          "base_uri": "https://localhost:8080/"
        },
        "id": "-WEvSnGNOzY1",
        "outputId": "b2ab7b22-f087-49df-8d96-ea2f22f24100"
      },
      "source": [
        "# Alternatively, ask for user input and print it flipped\n",
        "f = input('First name: ')\n",
        "l = input('Last name: ')\n",
        "print(l, f)"
      ],
      "execution_count": 81,
      "outputs": [
        {
          "output_type": "stream",
          "name": "stdout",
          "text": [
            "First name: Alexander\n",
            "Last name: Feigl\n",
            "Feigl Alexander\n"
          ]
        }
      ]
    },
    {
      "cell_type": "markdown",
      "metadata": {
        "id": "1DhKKCOVQTUD"
      },
      "source": [
        "##7. Display the first and last colors from a list"
      ]
    },
    {
      "cell_type": "markdown",
      "metadata": {
        "id": "xWHrygJQQ4M0"
      },
      "source": [
        "###What do I want?"
      ]
    },
    {
      "cell_type": "markdown",
      "metadata": {
        "id": "kMhn4VVbRQRp"
      },
      "source": [
        "A list of colors and to find the first and last on that list"
      ]
    },
    {
      "cell_type": "markdown",
      "metadata": {
        "id": "1nD_OZb6Q75V"
      },
      "source": [
        "###What do I have?"
      ]
    },
    {
      "cell_type": "markdown",
      "metadata": {
        "id": "CfuwKCneRUww"
      },
      "source": [
        "No list"
      ]
    },
    {
      "cell_type": "markdown",
      "metadata": {
        "id": "988XEwaIRAxP"
      },
      "source": [
        "###What do I need?"
      ]
    },
    {
      "cell_type": "markdown",
      "metadata": {
        "id": "75BO0zUqRXYT"
      },
      "source": [
        "List of colors"
      ]
    },
    {
      "cell_type": "markdown",
      "metadata": {
        "id": "bh7qZU-uREo-"
      },
      "source": [
        "###The solution"
      ]
    },
    {
      "cell_type": "code",
      "metadata": {
        "colab": {
          "base_uri": "https://localhost:8080/"
        },
        "id": "7cjM6RVkRadn",
        "outputId": "fd953aa5-839f-4067-be3d-23d6e4ef63fd"
      },
      "source": [
        "c = [\"Red\", \"Green\", \"Blue\"]\n",
        "#List of colors assigned to c\n",
        "print(c[0]+\" \"+c[-1])\n",
        "#Grabbing the first and last from the list"
      ],
      "execution_count": 85,
      "outputs": [
        {
          "output_type": "stream",
          "name": "stdout",
          "text": [
            "Red Blue\n"
          ]
        }
      ]
    },
    {
      "cell_type": "code",
      "metadata": {
        "colab": {
          "base_uri": "https://localhost:8080/"
        },
        "id": "DlGNh-NcSkWp",
        "outputId": "73f95bf7-35a8-4d5a-dd7a-a63293f60f70"
      },
      "source": [
        "c = []\n",
        "# Creates empty list\n",
        "i = input('Enter a color. Enter \"n\" to move on: ')\n",
        "# Asks for initial input from user\n",
        "while i!=\"n\":\n",
        "# Begins while loop, or ends it depending on whether or not the user inputs \"n\"\n",
        "  c.append(i)\n",
        "# Adds user input to list\n",
        "  i = input('Enter a color. Enter \"n\" to move on: ')\n",
        "# Asks for user input within while loop\n",
        "print(c[0]+\" \"+c[-1])\n",
        "# Shows the first and last color on the list"
      ],
      "execution_count": 29,
      "outputs": [
        {
          "output_type": "stream",
          "name": "stdout",
          "text": [
            "Enter a color. Enter \"n\" to move on: Red\n",
            "Enter a color. Enter \"n\" to move on: Green\n",
            "Enter a color. Enter \"n\" to move on: Blue\n",
            "Enter a color. Enter \"n\" to move on: n\n",
            "Red Blue\n"
          ]
        }
      ]
    },
    {
      "cell_type": "markdown",
      "metadata": {
        "id": "B57p15NcRzD6"
      },
      "source": [
        "##8. Input an integer (n) and computes the value of n+nn+nn"
      ]
    },
    {
      "cell_type": "markdown",
      "metadata": {
        "id": "_NCQ-REjSTI4"
      },
      "source": [
        "###What do I want?"
      ]
    },
    {
      "cell_type": "markdown",
      "metadata": {
        "id": "lVXxcb54UShy"
      },
      "source": [
        "The sum of integers"
      ]
    },
    {
      "cell_type": "markdown",
      "metadata": {
        "id": "9cKYsq53SZG0"
      },
      "source": [
        "###What do I have?"
      ]
    },
    {
      "cell_type": "markdown",
      "metadata": {
        "id": "3qilrKIhUUq1"
      },
      "source": [
        "A variable"
      ]
    },
    {
      "cell_type": "markdown",
      "metadata": {
        "id": "fzlWZbtWSc3s"
      },
      "source": [
        "###What do I need?"
      ]
    },
    {
      "cell_type": "markdown",
      "metadata": {
        "id": "sg5Jv2hHUabc"
      },
      "source": [
        "A formula"
      ]
    },
    {
      "cell_type": "markdown",
      "metadata": {
        "id": "iaTj7Rz1Sew5"
      },
      "source": [
        "###The solution"
      ]
    },
    {
      "cell_type": "code",
      "metadata": {
        "colab": {
          "base_uri": "https://localhost:8080/"
        },
        "id": "p19opo0YUdOp",
        "outputId": "c6589054-5c32-4b48-8923-860ac907ced2"
      },
      "source": [
        "n = input()\n",
        "# Take the input\n",
        "s = int(n+n)\n",
        "# Combine the input with itself and make an integer\n",
        "print(int(n)+s+s)\n",
        "# Show the result"
      ],
      "execution_count": 14,
      "outputs": [
        {
          "output_type": "stream",
          "name": "stdout",
          "text": [
            "2\n",
            "46\n"
          ]
        }
      ]
    },
    {
      "cell_type": "markdown",
      "metadata": {
        "id": "q6C4SHUtUpKc"
      },
      "source": [
        "##Write a python script to print the calendar of a given month and year."
      ]
    },
    {
      "cell_type": "markdown",
      "metadata": {
        "id": "rRVWVwMKYf-f"
      },
      "source": [
        "###What do I want?"
      ]
    },
    {
      "cell_type": "markdown",
      "metadata": {
        "id": "tr2DAJkVYqRc"
      },
      "source": [
        "Monthly calendar"
      ]
    },
    {
      "cell_type": "markdown",
      "metadata": {
        "id": "AdhK2mXiYjmI"
      },
      "source": [
        "###What do I have?"
      ]
    },
    {
      "cell_type": "markdown",
      "metadata": {
        "id": "P3zf81oRYurw"
      },
      "source": [
        "Google"
      ]
    },
    {
      "cell_type": "markdown",
      "metadata": {
        "id": "ma7drCNmYmS4"
      },
      "source": [
        "###What do I need?"
      ]
    },
    {
      "cell_type": "markdown",
      "metadata": {
        "id": "IWpch3j7YwlX"
      },
      "source": [
        "A formula that will yield a monthly calendar"
      ]
    },
    {
      "cell_type": "markdown",
      "metadata": {
        "id": "rfN73N1AYoiW"
      },
      "source": [
        "###The solution"
      ]
    },
    {
      "cell_type": "code",
      "metadata": {
        "colab": {
          "base_uri": "https://localhost:8080/"
        },
        "id": "v75QeCY9ZG-m",
        "outputId": "0cd9475f-6b8b-4908-b575-2e3364e3d839"
      },
      "source": [
        "import calendar\n",
        "# Imports the Python calendar\n",
        "y = int(input(\"yyyy: \"))\n",
        "# Gets the year from the user\n",
        "m = int(input(\"mm: \"))\n",
        "# Gets the month from the user\n",
        "print(calendar.month(y, m))\n",
        "# Shows the calendar"
      ],
      "execution_count": 31,
      "outputs": [
        {
          "output_type": "stream",
          "name": "stdout",
          "text": [
            "yyyy: 2025\n",
            "mm: 01\n",
            "    January 2025\n",
            "Mo Tu We Th Fr Sa Su\n",
            "       1  2  3  4  5\n",
            " 6  7  8  9 10 11 12\n",
            "13 14 15 16 17 18 19\n",
            "20 21 22 23 24 25 26\n",
            "27 28 29 30 31\n",
            "\n"
          ]
        }
      ]
    },
    {
      "cell_type": "code",
      "metadata": {
        "id": "JZFguCMnZddH"
      },
      "source": [
        ""
      ],
      "execution_count": null,
      "outputs": []
    }
  ]
}